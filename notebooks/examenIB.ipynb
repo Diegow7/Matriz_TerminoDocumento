{
 "cells": [
  {
   "cell_type": "markdown",
   "metadata": {},
   "source": [
    "# Examen Bimestral – Diseño de un Sistema Básico de Recuperación de Información"
   ]
  },
  {
   "cell_type": "markdown",
   "metadata": {},
   "source": [
    "## Instrucciones:\n",
    "En este examen, los estudiantes deberán diseñar e implementar un sistema básico de recuperación de\n",
    "información utilizando la base de datos **Rotten Tomatoes movies and critic reviews** disponible en\n",
    "Kaggle. El objetivo es responder consultas relacionadas con la temática de las películas y sus\n",
    "características."
   ]
  },
  {
   "cell_type": "markdown",
   "metadata": {},
   "source": [
    "## 1. Fases de la implementación"
   ]
  },
  {
   "cell_type": "markdown",
   "metadata": {},
   "source": [
    "### 1.1 Adquisición de datos"
   ]
  },
  {
   "cell_type": "markdown",
   "metadata": {},
   "source": [
    "\n",
    "* Descargar el Corpus `rotten_tomatoes_movies` y `rotten_tomatoes_critic_reviews` que se encuentran en Kaggle\n",
    "* Descomprimir y colocamos nuestros archivos en la carpeta de **Archivos** que nos ofrece Google colab."
   ]
  },
  {
   "cell_type": "markdown",
   "metadata": {},
   "source": [
    "![Descripción de la imagen](../images/addcorpus.png)"
   ]
  },
  {
   "cell_type": "code",
   "execution_count": 33,
   "metadata": {},
   "outputs": [],
   "source": [
    "import pandas as pd # manipular datos en formate DataFrames\n",
    "import numpy as np # Operaciones numéricas\n",
    "import re # Uso en expresiones regulares para la limpieza de datos\n",
    "from sklearn.feature_extraction.text import TfidfVectorizer # Conversión a vector TF-IDF\n",
    "from sklearn.metrics.pairwise import cosine_similarity # Calculo para la similitud coseno\n",
    "from nltk.corpus import stopwords  # Acceder a una lista de palabras comunes (stopwords) en varios idiomas.\n",
    "from nltk.stem.porter import PorterStemmer # Para realizar stemming (reducir palabras a su raíz).\n",
    "from nltk.tokenize import word_tokenize # División de texto en tokens (palabras)\n",
    "from collections import defaultdict\n",
    "import random\n",
    "import nltk"
   ]
  },
  {
   "cell_type": "code",
   "execution_count": 2,
   "metadata": {},
   "outputs": [
    {
     "name": "stderr",
     "output_type": "stream",
     "text": [
      "[nltk_data] Downloading package punkt to\n",
      "[nltk_data]     C:\\Users\\diego\\AppData\\Roaming\\nltk_data...\n",
      "[nltk_data]   Package punkt is already up-to-date!\n",
      "[nltk_data] Downloading package punkt_tab to\n",
      "[nltk_data]     C:\\Users\\diego\\AppData\\Roaming\\nltk_data...\n",
      "[nltk_data]   Package punkt_tab is already up-to-date!\n",
      "[nltk_data] Downloading package stopwords to\n",
      "[nltk_data]     C:\\Users\\diego\\AppData\\Roaming\\nltk_data...\n",
      "[nltk_data]   Package stopwords is already up-to-date!\n"
     ]
    },
    {
     "data": {
      "text/plain": [
       "True"
      ]
     },
     "execution_count": 2,
     "metadata": {},
     "output_type": "execute_result"
    }
   ],
   "source": [
    "# Descargar recursos necesarios de NLTK\n",
    "nltk.download('punkt')\n",
    "nltk.download('punkt_tab')\n",
    "nltk.download('stopwords')"
   ]
  },
  {
   "cell_type": "code",
   "execution_count": 3,
   "metadata": {},
   "outputs": [],
   "source": [
    "#Declaraciones previas\n",
    "# Crear una lista de stopwords en inglés\n",
    "stop_words = set(stopwords.words('english'))\n",
    "\n",
    "# Crear un objeto PorterStemmer\n",
    "stemmer = PorterStemmer()"
   ]
  },
  {
   "cell_type": "code",
   "execution_count": 4,
   "metadata": {},
   "outputs": [],
   "source": [
    "# Cargar datasets\n",
    "movies_df = pd.read_csv('../data/rotten_tomatoes_movies.csv')\n",
    "reviews_df = pd.read_csv('../data/rotten_tomatoes_critic_reviews.csv')"
   ]
  },
  {
   "cell_type": "code",
   "execution_count": 5,
   "metadata": {},
   "outputs": [
    {
     "name": "stdout",
     "output_type": "stream",
     "text": [
      "Contenido de movies_df:\n"
     ]
    },
    {
     "data": {
      "text/html": [
       "<div>\n",
       "<style scoped>\n",
       "    .dataframe tbody tr th:only-of-type {\n",
       "        vertical-align: middle;\n",
       "    }\n",
       "\n",
       "    .dataframe tbody tr th {\n",
       "        vertical-align: top;\n",
       "    }\n",
       "\n",
       "    .dataframe thead th {\n",
       "        text-align: right;\n",
       "    }\n",
       "</style>\n",
       "<table border=\"1\" class=\"dataframe\">\n",
       "  <thead>\n",
       "    <tr style=\"text-align: right;\">\n",
       "      <th></th>\n",
       "      <th>rotten_tomatoes_link</th>\n",
       "      <th>movie_title</th>\n",
       "      <th>movie_info</th>\n",
       "      <th>critics_consensus</th>\n",
       "      <th>content_rating</th>\n",
       "      <th>genres</th>\n",
       "      <th>directors</th>\n",
       "      <th>authors</th>\n",
       "      <th>actors</th>\n",
       "      <th>original_release_date</th>\n",
       "      <th>...</th>\n",
       "      <th>production_company</th>\n",
       "      <th>tomatometer_status</th>\n",
       "      <th>tomatometer_rating</th>\n",
       "      <th>tomatometer_count</th>\n",
       "      <th>audience_status</th>\n",
       "      <th>audience_rating</th>\n",
       "      <th>audience_count</th>\n",
       "      <th>tomatometer_top_critics_count</th>\n",
       "      <th>tomatometer_fresh_critics_count</th>\n",
       "      <th>tomatometer_rotten_critics_count</th>\n",
       "    </tr>\n",
       "  </thead>\n",
       "  <tbody>\n",
       "    <tr>\n",
       "      <th>0</th>\n",
       "      <td>m/0814255</td>\n",
       "      <td>Percy Jackson &amp; the Olympians: The Lightning T...</td>\n",
       "      <td>Always trouble-prone, the life of teenager Per...</td>\n",
       "      <td>Though it may seem like just another Harry Pot...</td>\n",
       "      <td>PG</td>\n",
       "      <td>Action &amp; Adventure, Comedy, Drama, Science Fic...</td>\n",
       "      <td>Chris Columbus</td>\n",
       "      <td>Craig Titley, Chris Columbus, Rick Riordan</td>\n",
       "      <td>Logan Lerman, Brandon T. Jackson, Alexandra Da...</td>\n",
       "      <td>2010-02-12</td>\n",
       "      <td>...</td>\n",
       "      <td>20th Century Fox</td>\n",
       "      <td>Rotten</td>\n",
       "      <td>49.0</td>\n",
       "      <td>149.0</td>\n",
       "      <td>Spilled</td>\n",
       "      <td>53.0</td>\n",
       "      <td>254421.0</td>\n",
       "      <td>43</td>\n",
       "      <td>73</td>\n",
       "      <td>76</td>\n",
       "    </tr>\n",
       "    <tr>\n",
       "      <th>1</th>\n",
       "      <td>m/0878835</td>\n",
       "      <td>Please Give</td>\n",
       "      <td>Kate (Catherine Keener) and her husband Alex (...</td>\n",
       "      <td>Nicole Holofcener's newest might seem slight i...</td>\n",
       "      <td>R</td>\n",
       "      <td>Comedy</td>\n",
       "      <td>Nicole Holofcener</td>\n",
       "      <td>Nicole Holofcener</td>\n",
       "      <td>Catherine Keener, Amanda Peet, Oliver Platt, R...</td>\n",
       "      <td>2010-04-30</td>\n",
       "      <td>...</td>\n",
       "      <td>Sony Pictures Classics</td>\n",
       "      <td>Certified-Fresh</td>\n",
       "      <td>87.0</td>\n",
       "      <td>142.0</td>\n",
       "      <td>Upright</td>\n",
       "      <td>64.0</td>\n",
       "      <td>11574.0</td>\n",
       "      <td>44</td>\n",
       "      <td>123</td>\n",
       "      <td>19</td>\n",
       "    </tr>\n",
       "    <tr>\n",
       "      <th>2</th>\n",
       "      <td>m/10</td>\n",
       "      <td>10</td>\n",
       "      <td>A successful, middle-aged Hollywood songwriter...</td>\n",
       "      <td>Blake Edwards' bawdy comedy may not score a pe...</td>\n",
       "      <td>R</td>\n",
       "      <td>Comedy, Romance</td>\n",
       "      <td>Blake Edwards</td>\n",
       "      <td>Blake Edwards</td>\n",
       "      <td>Dudley Moore, Bo Derek, Julie Andrews, Robert ...</td>\n",
       "      <td>1979-10-05</td>\n",
       "      <td>...</td>\n",
       "      <td>Waner Bros.</td>\n",
       "      <td>Fresh</td>\n",
       "      <td>67.0</td>\n",
       "      <td>24.0</td>\n",
       "      <td>Spilled</td>\n",
       "      <td>53.0</td>\n",
       "      <td>14684.0</td>\n",
       "      <td>2</td>\n",
       "      <td>16</td>\n",
       "      <td>8</td>\n",
       "    </tr>\n",
       "    <tr>\n",
       "      <th>3</th>\n",
       "      <td>m/1000013-12_angry_men</td>\n",
       "      <td>12 Angry Men (Twelve Angry Men)</td>\n",
       "      <td>Following the closing arguments in a murder tr...</td>\n",
       "      <td>Sidney Lumet's feature debut is a superbly wri...</td>\n",
       "      <td>NR</td>\n",
       "      <td>Classics, Drama</td>\n",
       "      <td>Sidney Lumet</td>\n",
       "      <td>Reginald Rose</td>\n",
       "      <td>Martin Balsam, John Fiedler, Lee J. Cobb, E.G....</td>\n",
       "      <td>1957-04-13</td>\n",
       "      <td>...</td>\n",
       "      <td>Criterion Collection</td>\n",
       "      <td>Certified-Fresh</td>\n",
       "      <td>100.0</td>\n",
       "      <td>54.0</td>\n",
       "      <td>Upright</td>\n",
       "      <td>97.0</td>\n",
       "      <td>105386.0</td>\n",
       "      <td>6</td>\n",
       "      <td>54</td>\n",
       "      <td>0</td>\n",
       "    </tr>\n",
       "    <tr>\n",
       "      <th>4</th>\n",
       "      <td>m/1000079-20000_leagues_under_the_sea</td>\n",
       "      <td>20,000 Leagues Under The Sea</td>\n",
       "      <td>In 1866, Professor Pierre M. Aronnax (Paul Luk...</td>\n",
       "      <td>One of Disney's finest live-action adventures,...</td>\n",
       "      <td>G</td>\n",
       "      <td>Action &amp; Adventure, Drama, Kids &amp; Family</td>\n",
       "      <td>Richard Fleischer</td>\n",
       "      <td>Earl Felton</td>\n",
       "      <td>James Mason, Kirk Douglas, Paul Lukas, Peter L...</td>\n",
       "      <td>1954-01-01</td>\n",
       "      <td>...</td>\n",
       "      <td>Disney</td>\n",
       "      <td>Fresh</td>\n",
       "      <td>89.0</td>\n",
       "      <td>27.0</td>\n",
       "      <td>Upright</td>\n",
       "      <td>74.0</td>\n",
       "      <td>68918.0</td>\n",
       "      <td>5</td>\n",
       "      <td>24</td>\n",
       "      <td>3</td>\n",
       "    </tr>\n",
       "  </tbody>\n",
       "</table>\n",
       "<p>5 rows × 22 columns</p>\n",
       "</div>"
      ],
      "text/plain": [
       "                    rotten_tomatoes_link  \\\n",
       "0                              m/0814255   \n",
       "1                              m/0878835   \n",
       "2                                   m/10   \n",
       "3                 m/1000013-12_angry_men   \n",
       "4  m/1000079-20000_leagues_under_the_sea   \n",
       "\n",
       "                                         movie_title  \\\n",
       "0  Percy Jackson & the Olympians: The Lightning T...   \n",
       "1                                        Please Give   \n",
       "2                                                 10   \n",
       "3                    12 Angry Men (Twelve Angry Men)   \n",
       "4                       20,000 Leagues Under The Sea   \n",
       "\n",
       "                                          movie_info  \\\n",
       "0  Always trouble-prone, the life of teenager Per...   \n",
       "1  Kate (Catherine Keener) and her husband Alex (...   \n",
       "2  A successful, middle-aged Hollywood songwriter...   \n",
       "3  Following the closing arguments in a murder tr...   \n",
       "4  In 1866, Professor Pierre M. Aronnax (Paul Luk...   \n",
       "\n",
       "                                   critics_consensus content_rating  \\\n",
       "0  Though it may seem like just another Harry Pot...             PG   \n",
       "1  Nicole Holofcener's newest might seem slight i...              R   \n",
       "2  Blake Edwards' bawdy comedy may not score a pe...              R   \n",
       "3  Sidney Lumet's feature debut is a superbly wri...             NR   \n",
       "4  One of Disney's finest live-action adventures,...              G   \n",
       "\n",
       "                                              genres          directors  \\\n",
       "0  Action & Adventure, Comedy, Drama, Science Fic...     Chris Columbus   \n",
       "1                                             Comedy  Nicole Holofcener   \n",
       "2                                    Comedy, Romance      Blake Edwards   \n",
       "3                                    Classics, Drama       Sidney Lumet   \n",
       "4           Action & Adventure, Drama, Kids & Family  Richard Fleischer   \n",
       "\n",
       "                                      authors  \\\n",
       "0  Craig Titley, Chris Columbus, Rick Riordan   \n",
       "1                           Nicole Holofcener   \n",
       "2                               Blake Edwards   \n",
       "3                               Reginald Rose   \n",
       "4                                 Earl Felton   \n",
       "\n",
       "                                              actors original_release_date  \\\n",
       "0  Logan Lerman, Brandon T. Jackson, Alexandra Da...            2010-02-12   \n",
       "1  Catherine Keener, Amanda Peet, Oliver Platt, R...            2010-04-30   \n",
       "2  Dudley Moore, Bo Derek, Julie Andrews, Robert ...            1979-10-05   \n",
       "3  Martin Balsam, John Fiedler, Lee J. Cobb, E.G....            1957-04-13   \n",
       "4  James Mason, Kirk Douglas, Paul Lukas, Peter L...            1954-01-01   \n",
       "\n",
       "   ...      production_company  tomatometer_status tomatometer_rating  \\\n",
       "0  ...        20th Century Fox              Rotten               49.0   \n",
       "1  ...  Sony Pictures Classics     Certified-Fresh               87.0   \n",
       "2  ...             Waner Bros.               Fresh               67.0   \n",
       "3  ...    Criterion Collection     Certified-Fresh              100.0   \n",
       "4  ...                  Disney               Fresh               89.0   \n",
       "\n",
       "  tomatometer_count  audience_status  audience_rating audience_count  \\\n",
       "0             149.0          Spilled             53.0       254421.0   \n",
       "1             142.0          Upright             64.0        11574.0   \n",
       "2              24.0          Spilled             53.0        14684.0   \n",
       "3              54.0          Upright             97.0       105386.0   \n",
       "4              27.0          Upright             74.0        68918.0   \n",
       "\n",
       "   tomatometer_top_critics_count  tomatometer_fresh_critics_count  \\\n",
       "0                             43                               73   \n",
       "1                             44                              123   \n",
       "2                              2                               16   \n",
       "3                              6                               54   \n",
       "4                              5                               24   \n",
       "\n",
       "   tomatometer_rotten_critics_count  \n",
       "0                                76  \n",
       "1                                19  \n",
       "2                                 8  \n",
       "3                                 0  \n",
       "4                                 3  \n",
       "\n",
       "[5 rows x 22 columns]"
      ]
     },
     "metadata": {},
     "output_type": "display_data"
    }
   ],
   "source": [
    "print(\"Contenido de movies_df:\")\n",
    "display(movies_df.head())"
   ]
  },
  {
   "cell_type": "code",
   "execution_count": 6,
   "metadata": {},
   "outputs": [
    {
     "name": "stdout",
     "output_type": "stream",
     "text": [
      "Columnas de movies_df:\n",
      "Index(['rotten_tomatoes_link', 'movie_title', 'movie_info',\n",
      "       'critics_consensus', 'content_rating', 'genres', 'directors', 'authors',\n",
      "       'actors', 'original_release_date', 'streaming_release_date', 'runtime',\n",
      "       'production_company', 'tomatometer_status', 'tomatometer_rating',\n",
      "       'tomatometer_count', 'audience_status', 'audience_rating',\n",
      "       'audience_count', 'tomatometer_top_critics_count',\n",
      "       'tomatometer_fresh_critics_count', 'tomatometer_rotten_critics_count'],\n",
      "      dtype='object')\n"
     ]
    }
   ],
   "source": [
    "print(\"Columnas de movies_df:\")\n",
    "print(movies_df.columns)"
   ]
  },
  {
   "cell_type": "code",
   "execution_count": 7,
   "metadata": {},
   "outputs": [
    {
     "name": "stdout",
     "output_type": "stream",
     "text": [
      "Contenido de reviews_df:\n"
     ]
    },
    {
     "data": {
      "text/html": [
       "<div>\n",
       "<style scoped>\n",
       "    .dataframe tbody tr th:only-of-type {\n",
       "        vertical-align: middle;\n",
       "    }\n",
       "\n",
       "    .dataframe tbody tr th {\n",
       "        vertical-align: top;\n",
       "    }\n",
       "\n",
       "    .dataframe thead th {\n",
       "        text-align: right;\n",
       "    }\n",
       "</style>\n",
       "<table border=\"1\" class=\"dataframe\">\n",
       "  <thead>\n",
       "    <tr style=\"text-align: right;\">\n",
       "      <th></th>\n",
       "      <th>rotten_tomatoes_link</th>\n",
       "      <th>critic_name</th>\n",
       "      <th>top_critic</th>\n",
       "      <th>publisher_name</th>\n",
       "      <th>review_type</th>\n",
       "      <th>review_score</th>\n",
       "      <th>review_date</th>\n",
       "      <th>review_content</th>\n",
       "    </tr>\n",
       "  </thead>\n",
       "  <tbody>\n",
       "    <tr>\n",
       "      <th>0</th>\n",
       "      <td>m/0814255</td>\n",
       "      <td>Andrew L. Urban</td>\n",
       "      <td>False</td>\n",
       "      <td>Urban Cinefile</td>\n",
       "      <td>Fresh</td>\n",
       "      <td>NaN</td>\n",
       "      <td>2010-02-06</td>\n",
       "      <td>A fantasy adventure that fuses Greek mythology...</td>\n",
       "    </tr>\n",
       "    <tr>\n",
       "      <th>1</th>\n",
       "      <td>m/0814255</td>\n",
       "      <td>Louise Keller</td>\n",
       "      <td>False</td>\n",
       "      <td>Urban Cinefile</td>\n",
       "      <td>Fresh</td>\n",
       "      <td>NaN</td>\n",
       "      <td>2010-02-06</td>\n",
       "      <td>Uma Thurman as Medusa, the gorgon with a coiff...</td>\n",
       "    </tr>\n",
       "    <tr>\n",
       "      <th>2</th>\n",
       "      <td>m/0814255</td>\n",
       "      <td>NaN</td>\n",
       "      <td>False</td>\n",
       "      <td>FILMINK (Australia)</td>\n",
       "      <td>Fresh</td>\n",
       "      <td>NaN</td>\n",
       "      <td>2010-02-09</td>\n",
       "      <td>With a top-notch cast and dazzling special eff...</td>\n",
       "    </tr>\n",
       "    <tr>\n",
       "      <th>3</th>\n",
       "      <td>m/0814255</td>\n",
       "      <td>Ben McEachen</td>\n",
       "      <td>False</td>\n",
       "      <td>Sunday Mail (Australia)</td>\n",
       "      <td>Fresh</td>\n",
       "      <td>3.5/5</td>\n",
       "      <td>2010-02-09</td>\n",
       "      <td>Whether audiences will get behind The Lightnin...</td>\n",
       "    </tr>\n",
       "    <tr>\n",
       "      <th>4</th>\n",
       "      <td>m/0814255</td>\n",
       "      <td>Ethan Alter</td>\n",
       "      <td>True</td>\n",
       "      <td>Hollywood Reporter</td>\n",
       "      <td>Rotten</td>\n",
       "      <td>NaN</td>\n",
       "      <td>2010-02-10</td>\n",
       "      <td>What's really lacking in The Lightning Thief i...</td>\n",
       "    </tr>\n",
       "  </tbody>\n",
       "</table>\n",
       "</div>"
      ],
      "text/plain": [
       "  rotten_tomatoes_link      critic_name  top_critic           publisher_name  \\\n",
       "0            m/0814255  Andrew L. Urban       False           Urban Cinefile   \n",
       "1            m/0814255    Louise Keller       False           Urban Cinefile   \n",
       "2            m/0814255              NaN       False      FILMINK (Australia)   \n",
       "3            m/0814255     Ben McEachen       False  Sunday Mail (Australia)   \n",
       "4            m/0814255      Ethan Alter        True       Hollywood Reporter   \n",
       "\n",
       "  review_type review_score review_date  \\\n",
       "0       Fresh          NaN  2010-02-06   \n",
       "1       Fresh          NaN  2010-02-06   \n",
       "2       Fresh          NaN  2010-02-09   \n",
       "3       Fresh        3.5/5  2010-02-09   \n",
       "4      Rotten          NaN  2010-02-10   \n",
       "\n",
       "                                      review_content  \n",
       "0  A fantasy adventure that fuses Greek mythology...  \n",
       "1  Uma Thurman as Medusa, the gorgon with a coiff...  \n",
       "2  With a top-notch cast and dazzling special eff...  \n",
       "3  Whether audiences will get behind The Lightnin...  \n",
       "4  What's really lacking in The Lightning Thief i...  "
      ]
     },
     "metadata": {},
     "output_type": "display_data"
    }
   ],
   "source": [
    "print(\"Contenido de reviews_df:\")\n",
    "display(reviews_df.head())"
   ]
  },
  {
   "cell_type": "code",
   "execution_count": 8,
   "metadata": {},
   "outputs": [
    {
     "name": "stdout",
     "output_type": "stream",
     "text": [
      "Columnas de reviews_df:\n",
      "Index(['rotten_tomatoes_link', 'critic_name', 'top_critic', 'publisher_name',\n",
      "       'review_type', 'review_score', 'review_date', 'review_content'],\n",
      "      dtype='object')\n"
     ]
    }
   ],
   "source": [
    "print(\"Columnas de reviews_df:\")\n",
    "print(reviews_df.columns)"
   ]
  },
  {
   "cell_type": "markdown",
   "metadata": {},
   "source": [
    "### 1.2. Preprocesamiento"
   ]
  },
  {
   "cell_type": "markdown",
   "metadata": {},
   "source": [
    "La función ***preprocess_text*** toma datos de texto sin procesar, los limpia eliminando caracteres y palabras innecesarias, reduce las palabras a su raíz y devuelve una versión procesada del texto que es más adecuada para el análisis"
   ]
  },
  {
   "cell_type": "markdown",
   "metadata": {},
   "source": [
    "#### 1.2.1. Conversión a minúsculas"
   ]
  },
  {
   "cell_type": "code",
   "execution_count": 9,
   "metadata": {},
   "outputs": [
    {
     "name": "stdout",
     "output_type": "stream",
     "text": [
      "Texto original:\n",
      "A fantasy adventure that fuses Greek mythology to contemporary American places and values. Anyone around 15 (give or take a couple of years) will thrill to the visual spectacle\n",
      "\n",
      "Texto en minúsculas:\n",
      "a fantasy adventure that fuses greek mythology to contemporary american places and values. anyone around 15 (give or take a couple of years) will thrill to the visual spectacle\n"
     ]
    }
   ],
   "source": [
    "# Visualizar el primer dato original\n",
    "print(\"Texto original:\")\n",
    "print(reviews_df['review_content'].iloc[0])\n",
    "\n",
    "# Convertir a minúsculas\n",
    "reviews_df['review_content'] = reviews_df['review_content'].str.lower()\n",
    "\n",
    "# Visualizar el resultado del primer dato después de convertir a minúsculas\n",
    "print(\"\\nTexto en minúsculas:\")\n",
    "print(reviews_df['review_content'].iloc[0])"
   ]
  },
  {
   "cell_type": "markdown",
   "metadata": {},
   "source": [
    "#### 1.2.2. Eliminación de caracteres especiales"
   ]
  },
  {
   "cell_type": "code",
   "execution_count": 10,
   "metadata": {},
   "outputs": [
    {
     "name": "stdout",
     "output_type": "stream",
     "text": [
      "\n",
      "Texto sin caracteres especiales:\n",
      "a fantasy adventure that fuses greek mythology to contemporary american places and values anyone around  give or take a couple of years will thrill to the visual spectacle\n"
     ]
    }
   ],
   "source": [
    "# Asegurarse de que todos los valores sean cadenas, reemplazando NaN por una cadena vacía\n",
    "reviews_df['review_content'] = reviews_df['review_content'].fillna('').astype(str)\n",
    "\n",
    "# Eliminar caracteres especiales usando expresiones regulares\n",
    "reviews_df['review_content'] = reviews_df['review_content'].apply(lambda x: re.sub(r'[^a-zA-Z\\s]', '', x))\n",
    "\n",
    "# Visualizar el resultado del primer dato después de eliminar caracteres especiales\n",
    "print(\"\\nTexto sin caracteres especiales:\")\n",
    "print(reviews_df['review_content'].iloc[0])"
   ]
  },
  {
   "cell_type": "markdown",
   "metadata": {},
   "source": [
    "#### 1.2.3. Eliminación de stopwords"
   ]
  },
  {
   "cell_type": "code",
   "execution_count": 11,
   "metadata": {},
   "outputs": [
    {
     "name": "stdout",
     "output_type": "stream",
     "text": [
      "\n",
      "Texto sin stopwords:\n",
      "fantasy adventure fuses greek mythology contemporary american places values anyone around give take couple years thrill visual spectacle\n"
     ]
    }
   ],
   "source": [
    "# Eliminar las stopwords del texto\n",
    "reviews_df['review_content'] = reviews_df['review_content'].apply(\n",
    "    lambda x: ' '.join([word for word in x.split() if word not in stop_words])\n",
    ")\n",
    "\n",
    "# Visualizar el resultado del primer dato después de eliminar stopwords\n",
    "print(\"\\nTexto sin stopwords:\")\n",
    "print(reviews_df['review_content'].iloc[0])"
   ]
  },
  {
   "cell_type": "markdown",
   "metadata": {},
   "source": [
    "#### 1.2.4. Tokenización"
   ]
  },
  {
   "cell_type": "code",
   "execution_count": 12,
   "metadata": {},
   "outputs": [],
   "source": [
    "# Función para tokenizar texto\n",
    "def tokenizar_texto(texto):\n",
    "    # Utilizamos word_tokenize de NLTK para dividir en tokens\n",
    "    tokens = word_tokenize(texto)\n",
    "    return tokens"
   ]
  },
  {
   "cell_type": "code",
   "execution_count": 13,
   "metadata": {},
   "outputs": [
    {
     "name": "stdout",
     "output_type": "stream",
     "text": [
      "\n",
      "Texto tokenizado:\n",
      "['fantasy', 'adventure', 'fuses', 'greek', 'mythology', 'contemporary', 'american', 'places', 'values', 'anyone', 'around', 'give', 'take', 'couple', 'years', 'thrill', 'visual', 'spectacle']\n"
     ]
    }
   ],
   "source": [
    "# Aplicar la función a la columna 'review_content'\n",
    "reviews_df['review_tokens'] = reviews_df['review_content'].apply(tokenizar_texto)\n",
    "\n",
    "# Visualizar el resultado del primer dato después de la tokenización\n",
    "print(\"\\nTexto tokenizado:\")\n",
    "print(reviews_df['review_tokens'].iloc[0])"
   ]
  },
  {
   "cell_type": "markdown",
   "metadata": {},
   "source": [
    "#### 1.2.5. Stemming"
   ]
  },
  {
   "cell_type": "code",
   "execution_count": 14,
   "metadata": {},
   "outputs": [
    {
     "name": "stdout",
     "output_type": "stream",
     "text": [
      "\n",
      "Texto después del stemming:\n",
      "['fantasi', 'adventur', 'fuse', 'greek', 'mytholog', 'contemporari', 'american', 'place', 'valu', 'anyon', 'around', 'give', 'take', 'coupl', 'year', 'thrill', 'visual', 'spectacl']\n"
     ]
    }
   ],
   "source": [
    "# Aplicar stemming a cada token del texto\n",
    "reviews_df['review_stemmed'] = reviews_df['review_tokens'].apply(\n",
    "    lambda tokens: [stemmer.stem(token) for token in tokens]\n",
    ")\n",
    "\n",
    "# Visualizar el resultado del primer dato después de aplicar stemming\n",
    "print(\"\\nTexto después del stemming:\")\n",
    "print(reviews_df['review_stemmed'].iloc[0])"
   ]
  },
  {
   "cell_type": "markdown",
   "metadata": {},
   "source": [
    "#### 1.2.6. Normalización"
   ]
  },
  {
   "cell_type": "code",
   "execution_count": 15,
   "metadata": {},
   "outputs": [
    {
     "name": "stdout",
     "output_type": "stream",
     "text": [
      "\n",
      "Texto normalizado:\n",
      "fantasi adventur fuse greek mytholog contemporari american place valu anyon around give take coupl year thrill visual spectacl\n"
     ]
    }
   ],
   "source": [
    "# Unificar las palabras preprocesadas en una sola cadena para cada texto\n",
    "reviews_df['review_normalized'] = reviews_df['review_stemmed'].apply(lambda tokens: ' '.join(tokens))\n",
    "\n",
    "# Visualizar el resultado del primer dato después de la normalización\n",
    "print(\"\\nTexto normalizado:\")\n",
    "print(reviews_df['review_normalized'].iloc[0])"
   ]
  },
  {
   "cell_type": "markdown",
   "metadata": {},
   "source": [
    "#### 1.2.7. Guardado (Preprocesamiento)"
   ]
  },
  {
   "cell_type": "markdown",
   "metadata": {},
   "source": [
    "Generamo un archivo CSV que contiene a la varible de `review_content` luego de todo el proceso del preprocesamiento y listo para utilizarlo."
   ]
  },
  {
   "cell_type": "code",
   "execution_count": 16,
   "metadata": {},
   "outputs": [],
   "source": [
    "reviews_df.to_csv('../data/reviews_preprocessed.csv', index=False)"
   ]
  },
  {
   "cell_type": "markdown",
   "metadata": {},
   "source": [
    "![Descripción de la imagen](../images/corpusProcesado.png)"
   ]
  },
  {
   "cell_type": "markdown",
   "metadata": {},
   "source": [
    "### 1.3.  Construcción del Sistema"
   ]
  },
  {
   "cell_type": "markdown",
   "metadata": {},
   "source": [
    "#### 1.3.1. Cargar (Preprocesamiento)"
   ]
  },
  {
   "cell_type": "code",
   "execution_count": 17,
   "metadata": {},
   "outputs": [],
   "source": [
    "# Cargar datasets\n",
    "reviewsp_df = pd.read_csv('../data/reviews_preprocessed.csv')"
   ]
  },
  {
   "cell_type": "code",
   "execution_count": 18,
   "metadata": {},
   "outputs": [
    {
     "name": "stdout",
     "output_type": "stream",
     "text": [
      "Contenido de reviewsp__df:\n"
     ]
    },
    {
     "data": {
      "text/html": [
       "<div>\n",
       "<style scoped>\n",
       "    .dataframe tbody tr th:only-of-type {\n",
       "        vertical-align: middle;\n",
       "    }\n",
       "\n",
       "    .dataframe tbody tr th {\n",
       "        vertical-align: top;\n",
       "    }\n",
       "\n",
       "    .dataframe thead th {\n",
       "        text-align: right;\n",
       "    }\n",
       "</style>\n",
       "<table border=\"1\" class=\"dataframe\">\n",
       "  <thead>\n",
       "    <tr style=\"text-align: right;\">\n",
       "      <th></th>\n",
       "      <th>rotten_tomatoes_link</th>\n",
       "      <th>critic_name</th>\n",
       "      <th>top_critic</th>\n",
       "      <th>publisher_name</th>\n",
       "      <th>review_type</th>\n",
       "      <th>review_score</th>\n",
       "      <th>review_date</th>\n",
       "      <th>review_content</th>\n",
       "      <th>review_tokens</th>\n",
       "      <th>review_stemmed</th>\n",
       "      <th>review_normalized</th>\n",
       "    </tr>\n",
       "  </thead>\n",
       "  <tbody>\n",
       "    <tr>\n",
       "      <th>0</th>\n",
       "      <td>m/0814255</td>\n",
       "      <td>Andrew L. Urban</td>\n",
       "      <td>False</td>\n",
       "      <td>Urban Cinefile</td>\n",
       "      <td>Fresh</td>\n",
       "      <td>NaN</td>\n",
       "      <td>2010-02-06</td>\n",
       "      <td>fantasy adventure fuses greek mythology contem...</td>\n",
       "      <td>['fantasy', 'adventure', 'fuses', 'greek', 'my...</td>\n",
       "      <td>['fantasi', 'adventur', 'fuse', 'greek', 'myth...</td>\n",
       "      <td>fantasi adventur fuse greek mytholog contempor...</td>\n",
       "    </tr>\n",
       "    <tr>\n",
       "      <th>1</th>\n",
       "      <td>m/0814255</td>\n",
       "      <td>Louise Keller</td>\n",
       "      <td>False</td>\n",
       "      <td>Urban Cinefile</td>\n",
       "      <td>Fresh</td>\n",
       "      <td>NaN</td>\n",
       "      <td>2010-02-06</td>\n",
       "      <td>uma thurman medusa gorgon coiffure writhing sn...</td>\n",
       "      <td>['uma', 'thurman', 'medusa', 'gorgon', 'coiffu...</td>\n",
       "      <td>['uma', 'thurman', 'medusa', 'gorgon', 'coiffu...</td>\n",
       "      <td>uma thurman medusa gorgon coiffur writh snake ...</td>\n",
       "    </tr>\n",
       "    <tr>\n",
       "      <th>2</th>\n",
       "      <td>m/0814255</td>\n",
       "      <td>NaN</td>\n",
       "      <td>False</td>\n",
       "      <td>FILMINK (Australia)</td>\n",
       "      <td>Fresh</td>\n",
       "      <td>NaN</td>\n",
       "      <td>2010-02-09</td>\n",
       "      <td>topnotch cast dazzling special effects tide te...</td>\n",
       "      <td>['topnotch', 'cast', 'dazzling', 'special', 'e...</td>\n",
       "      <td>['topnotch', 'cast', 'dazzl', 'special', 'effe...</td>\n",
       "      <td>topnotch cast dazzl special effect tide teen n...</td>\n",
       "    </tr>\n",
       "    <tr>\n",
       "      <th>3</th>\n",
       "      <td>m/0814255</td>\n",
       "      <td>Ben McEachen</td>\n",
       "      <td>False</td>\n",
       "      <td>Sunday Mail (Australia)</td>\n",
       "      <td>Fresh</td>\n",
       "      <td>3.5/5</td>\n",
       "      <td>2010-02-09</td>\n",
       "      <td>whether audiences get behind lightning thief h...</td>\n",
       "      <td>['whether', 'audiences', 'get', 'behind', 'lig...</td>\n",
       "      <td>['whether', 'audienc', 'get', 'behind', 'light...</td>\n",
       "      <td>whether audienc get behind lightn thief hard p...</td>\n",
       "    </tr>\n",
       "    <tr>\n",
       "      <th>4</th>\n",
       "      <td>m/0814255</td>\n",
       "      <td>Ethan Alter</td>\n",
       "      <td>True</td>\n",
       "      <td>Hollywood Reporter</td>\n",
       "      <td>Rotten</td>\n",
       "      <td>NaN</td>\n",
       "      <td>2010-02-10</td>\n",
       "      <td>whats really lacking lightning thief genuine s...</td>\n",
       "      <td>['whats', 'really', 'lacking', 'lightning', 't...</td>\n",
       "      <td>['what', 'realli', 'lack', 'lightn', 'thief', ...</td>\n",
       "      <td>what realli lack lightn thief genuin sens wond...</td>\n",
       "    </tr>\n",
       "  </tbody>\n",
       "</table>\n",
       "</div>"
      ],
      "text/plain": [
       "  rotten_tomatoes_link      critic_name  top_critic           publisher_name  \\\n",
       "0            m/0814255  Andrew L. Urban       False           Urban Cinefile   \n",
       "1            m/0814255    Louise Keller       False           Urban Cinefile   \n",
       "2            m/0814255              NaN       False      FILMINK (Australia)   \n",
       "3            m/0814255     Ben McEachen       False  Sunday Mail (Australia)   \n",
       "4            m/0814255      Ethan Alter        True       Hollywood Reporter   \n",
       "\n",
       "  review_type review_score review_date  \\\n",
       "0       Fresh          NaN  2010-02-06   \n",
       "1       Fresh          NaN  2010-02-06   \n",
       "2       Fresh          NaN  2010-02-09   \n",
       "3       Fresh        3.5/5  2010-02-09   \n",
       "4      Rotten          NaN  2010-02-10   \n",
       "\n",
       "                                      review_content  \\\n",
       "0  fantasy adventure fuses greek mythology contem...   \n",
       "1  uma thurman medusa gorgon coiffure writhing sn...   \n",
       "2  topnotch cast dazzling special effects tide te...   \n",
       "3  whether audiences get behind lightning thief h...   \n",
       "4  whats really lacking lightning thief genuine s...   \n",
       "\n",
       "                                       review_tokens  \\\n",
       "0  ['fantasy', 'adventure', 'fuses', 'greek', 'my...   \n",
       "1  ['uma', 'thurman', 'medusa', 'gorgon', 'coiffu...   \n",
       "2  ['topnotch', 'cast', 'dazzling', 'special', 'e...   \n",
       "3  ['whether', 'audiences', 'get', 'behind', 'lig...   \n",
       "4  ['whats', 'really', 'lacking', 'lightning', 't...   \n",
       "\n",
       "                                      review_stemmed  \\\n",
       "0  ['fantasi', 'adventur', 'fuse', 'greek', 'myth...   \n",
       "1  ['uma', 'thurman', 'medusa', 'gorgon', 'coiffu...   \n",
       "2  ['topnotch', 'cast', 'dazzl', 'special', 'effe...   \n",
       "3  ['whether', 'audienc', 'get', 'behind', 'light...   \n",
       "4  ['what', 'realli', 'lack', 'lightn', 'thief', ...   \n",
       "\n",
       "                                   review_normalized  \n",
       "0  fantasi adventur fuse greek mytholog contempor...  \n",
       "1  uma thurman medusa gorgon coiffur writh snake ...  \n",
       "2  topnotch cast dazzl special effect tide teen n...  \n",
       "3  whether audienc get behind lightn thief hard p...  \n",
       "4  what realli lack lightn thief genuin sens wond...  "
      ]
     },
     "metadata": {},
     "output_type": "display_data"
    }
   ],
   "source": [
    "print(\"Contenido de reviewsp__df:\")\n",
    "display(reviewsp_df.head())"
   ]
  },
  {
   "cell_type": "code",
   "execution_count": 27,
   "metadata": {},
   "outputs": [
    {
     "name": "stdout",
     "output_type": "stream",
     "text": [
      "Columnas de reviewsp_df:\n",
      "Index(['rotten_tomatoes_link', 'critic_name', 'top_critic', 'publisher_name',\n",
      "       'review_type', 'review_score', 'review_date', 'review_content',\n",
      "       'review_tokens', 'review_stemmed', 'review_normalized'],\n",
      "      dtype='object')\n"
     ]
    }
   ],
   "source": [
    "print(\"Columnas de reviewsp_df:\")\n",
    "print(reviewsp_df.columns)"
   ]
  },
  {
   "cell_type": "markdown",
   "metadata": {},
   "source": [
    "#### 1.3.2. Vectorización (TF-IDF)"
   ]
  },
  {
   "cell_type": "code",
   "execution_count": 28,
   "metadata": {},
   "outputs": [
    {
     "name": "stdout",
     "output_type": "stream",
     "text": [
      "Primeras 20 palabras:\n",
      "['aardman' 'aaron' 'ab' 'abandon' 'abba' 'abbey' 'abbi' 'abbott' 'abduct'\n",
      " 'abel' 'abid' 'abil' 'abject' 'abl' 'abli' 'aboard' 'abomin' 'abort'\n",
      " 'abound' 'aboveaverag']\n",
      "   aardman  aaron   ab  abandon  abba  abbey  abbi  abbott  abduct  abel  ...  \\\n",
      "0      0.0    0.0  0.0      0.0   0.0    0.0   0.0     0.0     0.0   0.0  ...   \n",
      "1      0.0    0.0  0.0      0.0   0.0    0.0   0.0     0.0     0.0   0.0  ...   \n",
      "2      0.0    0.0  0.0      0.0   0.0    0.0   0.0     0.0     0.0   0.0  ...   \n",
      "3      0.0    0.0  0.0      0.0   0.0    0.0   0.0     0.0     0.0   0.0  ...   \n",
      "4      0.0    0.0  0.0      0.0   0.0    0.0   0.0     0.0     0.0   0.0  ...   \n",
      "5      0.0    0.0  0.0      0.0   0.0    0.0   0.0     0.0     0.0   0.0  ...   \n",
      "6      0.0    0.0  0.0      0.0   0.0    0.0   0.0     0.0     0.0   0.0  ...   \n",
      "7      0.0    0.0  0.0      0.0   0.0    0.0   0.0     0.0     0.0   0.0  ...   \n",
      "8      0.0    0.0  0.0      0.0   0.0    0.0   0.0     0.0     0.0   0.0  ...   \n",
      "9      0.0    0.0  0.0      0.0   0.0    0.0   0.0     0.0     0.0   0.0  ...   \n",
      "\n",
      "   zombieland  zone  zoo  zooland  zoom  zootopia  zorro  zucker  zvyagintsev  \\\n",
      "0         0.0   0.0  0.0      0.0   0.0       0.0    0.0     0.0          0.0   \n",
      "1         0.0   0.0  0.0      0.0   0.0       0.0    0.0     0.0          0.0   \n",
      "2         0.0   0.0  0.0      0.0   0.0       0.0    0.0     0.0          0.0   \n",
      "3         0.0   0.0  0.0      0.0   0.0       0.0    0.0     0.0          0.0   \n",
      "4         0.0   0.0  0.0      0.0   0.0       0.0    0.0     0.0          0.0   \n",
      "5         0.0   0.0  0.0      0.0   0.0       0.0    0.0     0.0          0.0   \n",
      "6         0.0   0.0  0.0      0.0   0.0       0.0    0.0     0.0          0.0   \n",
      "7         0.0   0.0  0.0      0.0   0.0       0.0    0.0     0.0          0.0   \n",
      "8         0.0   0.0  0.0      0.0   0.0       0.0    0.0     0.0          0.0   \n",
      "9         0.0   0.0  0.0      0.0   0.0       0.0    0.0     0.0          0.0   \n",
      "\n",
      "   zwick  \n",
      "0    0.0  \n",
      "1    0.0  \n",
      "2    0.0  \n",
      "3    0.0  \n",
      "4    0.0  \n",
      "5    0.0  \n",
      "6    0.0  \n",
      "7    0.0  \n",
      "8    0.0  \n",
      "9    0.0  \n",
      "\n",
      "[10 rows x 10000 columns]\n"
     ]
    }
   ],
   "source": [
    "# Reemplazar valores NaN en la columna 'review_normalized' con cadenas vacías\n",
    "reviewsp_df['review_normalized'] = reviewsp_df['review_normalized'].fillna('')\n",
    "\n",
    "# Instanciar el vectorizador TF-IDF\n",
    "tfidf_vectorizer = TfidfVectorizer(max_features=10000)  # Limitar a las 10,000 palabras más frecuentes\n",
    "\n",
    "# Aplicar la vectorización a la columna 'review_normalized'\n",
    "tfidf_matrix = tfidf_vectorizer.fit_transform(reviewsp_df['review_normalized'])\n",
    "\n",
    "# Mostrar solo las primeras 20 palabras (usando la matriz dispersa)\n",
    "print(\"Primeras 20 palabras:\")\n",
    "print(tfidf_vectorizer.get_feature_names_out()[:20])\n",
    "\n",
    "# Convertir una muestra dispersa a un DataFrame\n",
    "sample_tfidf_df = pd.DataFrame(tfidf_matrix[:10].toarray(), columns=tfidf_vectorizer.get_feature_names_out())\n",
    "print(sample_tfidf_df)"
   ]
  },
  {
   "cell_type": "markdown",
   "metadata": {},
   "source": [
    "#### 1.3.3. Indexación"
   ]
  },
  {
   "cell_type": "code",
   "execution_count": 20,
   "metadata": {},
   "outputs": [],
   "source": [
    "def construir_indice_invertido(dataframe, vectorizador, matriz_tfidf):\n",
    "    indice_invertido = defaultdict(list)  # Diccionario para el índice invertido\n",
    "    vocabulario = vectorizador.get_feature_names_out()  # Obtener palabras del vocabulario\n",
    "    \n",
    "    # Iterar sobre los valores no nulos en la matriz dispersa\n",
    "    coo_matrix = matriz_tfidf.tocoo()  # Convertir a formato COO (Coordinate Format) para iteración eficiente\n",
    "    for rotten_tomatoes_idx, term_idx in zip(coo_matrix.row, coo_matrix.col):\n",
    "        rotten_tomatoes_id = dataframe['rotten_tomatoes_link'].iloc[rotten_tomatoes_idx]  # Obtener rotten_tomatoe_link de la review\n",
    "        termino = vocabulario[term_idx]  # Obtener el término del vocabulario\n",
    "        indice_invertido[termino].append(rotten_tomatoes_id)  # Guardar solo el rotten_tomatoe_link\n",
    "    \n",
    "    return indice_invertido"
   ]
  },
  {
   "cell_type": "code",
   "execution_count": 54,
   "metadata": {},
   "outputs": [],
   "source": [
    "# Construir el índice invertido sin pesos\n",
    "indice_invertido_tfidf = construir_indice_invertido(\n",
    "    dataframe=reviewsp_df,\n",
    "    vectorizador=tfidf_vectorizer,\n",
    "    matriz_tfidf=tfidf_matrix\n",
    ")"
   ]
  },
  {
   "cell_type": "code",
   "execution_count": 55,
   "metadata": {},
   "outputs": [
    {
     "name": "stdout",
     "output_type": "stream",
     "text": [
      "Término: 'spectacl' -> Entradas: ['m/0814255', 'm/0814255', 'm/0814255', 'm/10000_bc', 'm/10000_bc', 'm/10000_bc', 'm/10000_bc', 'm/10000_bc', 'm/10000_bc', 'm/1000355-adventures_of_robin_hood', 'm/10004504-ultraviolet', 'm/1000617-a...\n",
      "Término: 'visual' -> Entradas: ['m/0814255', 'm/0814255', 'm/0814255', 'm/10000_bc', 'm/10000_bc', 'm/10000_bc', 'm/10002516-lost_city', 'm/10002516-lost_city', 'm/10002635-bridge_of_san_luis_rey', 'm/10003437-deep_blue', 'm/100034...\n",
      "Término: 'thrill' -> Entradas: ['m/0814255', 'm/0814255', 'm/0814255', 'm/1000079-20000_leagues_under_the_sea', 'm/10003437-deep_blue', 'm/10003437-deep_blue', 'm/1000355-adventures_of_robin_hood', 'm/10004209-tristan_and_isolde', ...\n"
     ]
    }
   ],
   "source": [
    "# Mostrar los primeros términos del índice invertido\n",
    "for i, (termino, entradas) in enumerate(indice_invertido_tfidf.items()):\n",
    "    if i >= 3:  # Mostrar solo los primeros 3 términos\n",
    "        break\n",
    "    # Mostrar solo los primeros 200 caracteres de las entradas\n",
    "    entradas_mostradas = str(entradas)[:200]\n",
    "    print(f\"Término: '{termino}' -> Entradas: {entradas_mostradas}...\")"
   ]
  },
  {
   "cell_type": "markdown",
   "metadata": {},
   "source": [
    "#### 1.3.4. Diseño del Motor de Búsqueda"
   ]
  },
  {
   "cell_type": "markdown",
   "metadata": {},
   "source": [
    "##### 1.3.4.1. Desarrollar la lógica para procesar consultas de usuarios"
   ]
  },
  {
   "cell_type": "code",
   "execution_count": 22,
   "metadata": {},
   "outputs": [],
   "source": [
    "# Función para limpiar una consulta\n",
    "def limpiar_normalizar_consulta(consulta):\n",
    "    # Convertir a minúsculas\n",
    "    consulta = consulta.lower()\n",
    "    # Eliminar caracteres especiales\n",
    "    consulta = re.sub(r'[^a-zA-Z\\s]', '', consulta)\n",
    "    # Tokenizar la consulta\n",
    "    tokens = word_tokenize(consulta)\n",
    "    # Eliminar stopwords\n",
    "    tokens = [word for word in tokens if word not in stop_words]\n",
    "    # Aplicar stemming\n",
    "    stemmed_tokens = [stemmer.stem(token) for token in tokens]\n",
    "    return stemmed_tokens"
   ]
  },
  {
   "cell_type": "code",
   "execution_count": 23,
   "metadata": {},
   "outputs": [
    {
     "data": {
      "text/plain": [
       "['amaz']"
      ]
     },
     "execution_count": 23,
     "metadata": {},
     "output_type": "execute_result"
    }
   ],
   "source": [
    "# Ejemplo de limpieza\n",
    "query = \"amazing\"\n",
    "limpiar_normalizar_consulta(query)"
   ]
  },
  {
   "cell_type": "code",
   "execution_count": 24,
   "metadata": {},
   "outputs": [],
   "source": [
    "# Función para procesar una consulta y buscar documentos relevantes\n",
    "def procesar_consulta(consulta, indice_invertido):\n",
    "    # Limpieza y normalización de la consulta\n",
    "    consulta_normalizada = limpiar_normalizar_consulta(consulta)\n",
    "    # Inicializar un conjunto para almacenar documentos relevantes\n",
    "    documentos_relevantes = set()\n",
    "    # Buscar cada término en el índice invertido\n",
    "    for termino in consulta_normalizada:\n",
    "        if termino in indice_invertido:\n",
    "            # Agregar los documentos relevantes asociados al término\n",
    "            documentos_relevantes.update([doc[0] for doc in indice_invertido[termino]])  # Solo el ID del documento\n",
    "    return documentos_relevantes"
   ]
  },
  {
   "cell_type": "markdown",
   "metadata": {},
   "source": [
    "##### 1.3.4.2. Uso de algoritmo de similitud coseno y Ranking"
   ]
  },
  {
   "cell_type": "code",
   "execution_count": 38,
   "metadata": {},
   "outputs": [],
   "source": [
    "# Función para procesar la consulta\n",
    "def procesar_consulta(consulta, vectorizador, matriz_tfidf, dataframe, top_n=10):\n",
    "    # Limpiar y normalizar la consulta\n",
    "    consulta_normalizada = ' '.join(limpiar_normalizar_consulta(consulta))\n",
    "    \n",
    "    # Convertir la consulta en un vector TF-IDF\n",
    "    consulta_tfidf = vectorizador.transform([consulta_normalizada])\n",
    "    \n",
    "    # Calcular similitudes de coseno entre la consulta y todos los documentos\n",
    "    similitudes = cosine_similarity(consulta_tfidf, matriz_tfidf)\n",
    "    \n",
    "    # Obtener índices de documentos ordenados por similitud descendente\n",
    "    reviews_ordenados_idx = np.argsort(-similitudes[0])\n",
    "    \n",
    "    # Recuperar los primeros 'top_n' IDs de los documentos relevantes\n",
    "    reviews_relevantes = [\n",
    "        (dataframe.iloc[idx]['rotten_tomatoes_link'], similitudes[0, idx]) \n",
    "        for idx in reviews_ordenados_idx[:top_n]  # Limitar a los primeros 'top_n' resultados\n",
    "        if similitudes[0, idx] > 0\n",
    "    ]\n",
    "    \n",
    "    return reviews_relevantes"
   ]
  },
  {
   "cell_type": "markdown",
   "metadata": {},
   "source": [
    "##### 1.3.5. Ejemplo de Busqueda usando la consulta \"space travel\""
   ]
  },
  {
   "cell_type": "code",
   "execution_count": 51,
   "metadata": {},
   "outputs": [
    {
     "name": "stdout",
     "output_type": "stream",
     "text": [
      "Documentos relevantes encontrados (ordenados por similitud):\n",
      "Reviews ID: m/iron_sky | Similitud Coseno: 0.7661\n",
      "Reviews ID: m/first_man | Similitud Coseno: 0.7136\n",
      "Reviews ID: m/ad_astra | Similitud Coseno: 0.7025\n",
      "Reviews ID: m/a_wrinkle_in_time_2018 | Similitud Coseno: 0.6667\n",
      "Reviews ID: m/thank_you_for_your_service_2017 | Similitud Coseno: 0.6612\n",
      "Reviews ID: m/the_trip_to_spain_2017 | Similitud Coseno: 0.6206\n",
      "Reviews ID: m/apollo_11_2019 | Similitud Coseno: 0.5764\n",
      "Reviews ID: m/it_the_terror_from_beyond_space | Similitud Coseno: 0.5359\n",
      "Reviews ID: m/interstellar_2014 | Similitud Coseno: 0.5256\n",
      "Reviews ID: m/captain_abu_raed | Similitud Coseno: 0.5243\n"
     ]
    }
   ],
   "source": [
    "# Ejemplo de uso\n",
    "consulta_usuario = \"space travel\"\n",
    "reviews_relevantes = procesar_consulta(\n",
    "    consulta_usuario, tfidf_vectorizer, tfidf_matrix, reviewsp_df, top_n=10\n",
    ")\n",
    "\n",
    "# Mostrar resultados\n",
    "if reviews_relevantes:\n",
    "    print(\"Documentos relevantes encontrados (ordenados por similitud):\")\n",
    "    for reviews_id, similitud in reviews_relevantes:\n",
    "        # Mostrar texto limpio asociado a cada documento relevante\n",
    "        print(f\"Reviews ID: {reviews_id} | Similitud Coseno: {similitud:.4f}\")\n",
    "else:\n",
    "    print(\"No se encontraron documentos relevantes para la consulta.\")"
   ]
  },
  {
   "cell_type": "markdown",
   "metadata": {},
   "source": [
    "#### 1.3.6. Uso de \"rotten_tomatoes_movies\" para obtener el nombre de la película"
   ]
  },
  {
   "cell_type": "code",
   "execution_count": 52,
   "metadata": {},
   "outputs": [
    {
     "name": "stdout",
     "output_type": "stream",
     "text": [
      "Documentos relevantes encontrados (ordenados por similitud):\n",
      "Película: Iron Sky\n",
      "Película: First Man\n",
      "Película: Ad Astra\n",
      "Película: A Wrinkle in Time\n",
      "Película: Thank You for Your Service\n",
      "Película: The Trip to Spain\n",
      "Película: Apollo 11\n",
      "Película: It! The Terror From Beyond Space\n",
      "Película: Interstellar\n",
      "Película: Captain Abu Raed\n"
     ]
    }
   ],
   "source": [
    "# Mostrar resultados con el título de la película\n",
    "if reviews_relevantes:\n",
    "    print(\"Documentos relevantes encontrados (ordenados por similitud):\")\n",
    "    for reviews_id, similitud in reviews_relevantes:\n",
    "        # Buscar el título de la película en movies_df usando el rotten_tomatoes_link\n",
    "        movie_title = movies_df.loc[movies_df['rotten_tomatoes_link'] == reviews_id, 'movie_title'].values\n",
    "        if movie_title:\n",
    "            print(f\"Película: {movie_title[0]}\")\n",
    "        else:\n",
    "            print(f\"ID: {reviews_id} no tiene título asociado\")\n",
    "else:\n",
    "    print(\"No se encontraron documentos relevantes para la consulta.\")"
   ]
  },
  {
   "cell_type": "markdown",
   "metadata": {},
   "source": [
    "### 1.4. Análisis de Resultados"
   ]
  },
  {
   "cell_type": "markdown",
   "metadata": {},
   "source": [
    "Partiendo de lo siguiente, de los resultados obtenidos por mi SRI (Sistema de Recuperación) las películas que tienen relación con la temática de \"space travel\" (viajes espaciales) de la lista proporcionada son:\n",
    "\n",
    "- Iron Sky\n",
    "- First Man\n",
    "- Ad Astra\n",
    "- Apollo 11\n",
    "- Interstellar\n",
    "- It! The Terror From Beyond Space\n",
    "\n",
    "Estas películas están directamente relacionadas con el tema de los viajes espaciales, ya sea a través de misiones espaciales, exploración del espacio o experiencias en el espacio. Por otra parte, Las demás películas de la lista tienen temáticas que no están directamente relacionadas con los viajes espaciales, pero aún pueden tratar de otros aspectos como la historia humana, la ciencia ficción o el drama, aunque no se centran en el espacio.\n",
    "\n",
    "\n",
    "Por tanto, puedo colegir que mi Sistema de Recuperación de Información ha proporcionado resultados relacionados con la temática de \"space travel\", Sin embargo, no todas las películas de la lista están directamente relacionadas con los viajes espaciales, lo que sugiere que el sistema aún puede mejorar en la precisión de sus resultados, ya que algunas películas no se ajustan completamente al tema de la consulta."
   ]
  }
 ],
 "metadata": {
  "kernelspec": {
   "display_name": "Python 3",
   "language": "python",
   "name": "python3"
  },
  "language_info": {
   "codemirror_mode": {
    "name": "ipython",
    "version": 3
   },
   "file_extension": ".py",
   "mimetype": "text/x-python",
   "name": "python",
   "nbconvert_exporter": "python",
   "pygments_lexer": "ipython3",
   "version": "3.8.10"
  }
 },
 "nbformat": 4,
 "nbformat_minor": 2
}
