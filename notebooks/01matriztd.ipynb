{
 "cells": [
  {
   "cell_type": "markdown",
   "metadata": {},
   "source": [
    "### Ejercicio 01: Recuperación de Información Basado en el Modelo de Matriz Término-Documento\n",
    "\n",
    "En este ejercicio, trabajaremos con un corpus de documentos en formato JSON para implementar un sistema de Recuperación de Información basado en el modelo de espacio vectorial. Seguirás los siguientes pasos:\n",
    "\n",
    "#### Paso 1: Determinar un vocabulario\n",
    "El primer paso es cargar el corpus en formato JSON, extraer los textos de los documentos y crear el vocabulario.\n"
   ]
  },
  {
   "cell_type": "code",
   "execution_count": 14,
   "metadata": {},
   "outputs": [],
   "source": [
    "import json\n",
    "import re\n",
    "import unicodedata\n",
    "\n",
    "datos = []\n",
    "with open(file='../data/01matriztd_corpus.json', mode='r', encoding='utf-8') as file:\n",
    "    datos = json.load(file)"
   ]
  },
  {
   "cell_type": "markdown",
   "metadata": {},
   "source": [
    "#### Paso 1.1: Verificar y visualizar que el contenido se haya extraido correctamente\n",
    "Una vez cargado el corpus, procedemos a imprimir el contenido de los documentos y a comprobar que sea el mismo que nuestra data."
   ]
  },
  {
   "cell_type": "code",
   "execution_count": 15,
   "metadata": {},
   "outputs": [
    {
     "name": "stdout",
     "output_type": "stream",
     "text": [
      "la inteligencia artificial continúa avanzando rápidamente, transformando sectores como la salud y las finanzas. las empresas están adoptando algoritmos de aprendizaje automático para mejorar la eficiencia. sin embargo, el desafío principal sigue siendo garantizar que las decisiones basadas en datos sean justas y no perpetúen sesgos. la ética es fundamental en este contexto.\n",
      "\n",
      "--------------------------------------------------\n",
      "\n",
      "el desarrollo de videojuegos ha alcanzado un nuevo nivel con tecnologías como la realidad aumentada y la inteligencia artificial. los jugadores ahora pueden interactuar en mundos virtuales más inmersivos. este crecimiento también impulsa el mercado de los e-sports, donde las competencias profesionales atraen a millones de espectadores en todo el mundo.\n",
      "\n",
      "--------------------------------------------------\n",
      "\n",
      "el comercio electrónico ha cambiado la forma en que compramos. con la creciente demanda de compras en línea, las empresas están optimizando sus plataformas digitales para ofrecer mejores experiencias de usuario. desde recomendaciones personalizadas hasta pagos rápidos, los avances en tecnología siguen facilitando las transacciones diarias de los consumidores.\n",
      "\n",
      "--------------------------------------------------\n",
      "\n",
      "la educación a distancia ha permitido a millones de estudiantes acceder a programas de calidad sin importar su ubicación. la flexibilidad es uno de los mayores beneficios, especialmente para aquellos con trabajos a tiempo completo. aunque la falta de interacción presencial es un reto, las herramientas digitales siguen mejorando la experiencia educativa.\n",
      "\n",
      "--------------------------------------------------\n",
      "\n",
      "el cine ha evolucionado con los años, incorporando efectos visuales cada vez más realistas. las producciones cinematográficas utilizan tecnologías avanzadas para crear escenas que desafían la realidad. además, el acceso a plataformas de streaming ha transformado cómo y cuándo el público consume contenido, democratizando el acceso a películas y series.\n",
      "\n",
      "--------------------------------------------------\n",
      "\n",
      "la ciencia ficción es uno de los géneros literarios más populares, explorando temas como el viaje en el tiempo, la inteligencia artificial y la vida en otros planetas. este género no solo entretiene, sino que también invita a reflexionar sobre el futuro de la humanidad y las implicaciones de los avances tecnológicos.\n",
      "\n",
      "--------------------------------------------------\n",
      "\n",
      "el desarrollo personal se ha convertido en una prioridad para muchas personas que buscan mejorar su calidad de vida. desde la adopción de hábitos saludables hasta el aprendizaje de nuevas habilidades, el enfoque en el crecimiento individual ha llevado a un aumento en la demanda de libros, cursos y aplicaciones que promueven el bienestar integral.\n",
      "\n",
      "--------------------------------------------------\n",
      "\n",
      "los avances en la medicina están cambiando la forma en que se diagnostican y tratan las enfermedades. desde la telemedicina hasta los dispositivos portátiles que monitorean la salud en tiempo real, la tecnología está permitiendo a los médicos ofrecer cuidados más personalizados. el futuro de la medicina es prometedor, con tratamientos más accesibles y eficaces.\n",
      "\n",
      "--------------------------------------------------\n",
      "\n"
     ]
    }
   ],
   "source": [
    "for documento in datos:\n",
    "    print(documento['text'].lower())\n",
    "    print(\"\\n\" + \"-\"*50 + \"\\n\")"
   ]
  },
  {
   "cell_type": "markdown",
   "metadata": {},
   "source": [
    "#### Paso 1.2: Limpieza de texto \n",
    "Creamos una función para limpiar el texto de cada documento y eliminar caracteres especiales."
   ]
  },
  {
   "cell_type": "code",
   "execution_count": 32,
   "metadata": {},
   "outputs": [],
   "source": [
    "def limpiar_texto(texto):\n",
    "    # Eliminar acentos usando unicodedata\n",
    "    texto = ''.join(\n",
    "        (c for c in unicodedata.normalize('NFD', texto) if unicodedata.category(c) != 'Mn')\n",
    "    )\n",
    "    texto = texto.lower()  # Convertir a minúsculas\n",
    "    texto = re.sub(r'[^\\w\\s]', '', texto)  # Eliminar puntuación\n",
    "    texto = re.sub(r'\\s+', ' ', texto)  # Reemplazar espacios múltiples con un solo espacio\n",
    "    return texto"
   ]
  },
  {
   "cell_type": "markdown",
   "metadata": {},
   "source": [
    "#### Paso 1.3: Obtención del vocabulario\n",
    "Se inicializa un conjunto vacío vocabulario. Se procede a realizar la limpieza del texto de cada documento y se añaden las palabras únicas al conjunto, eliminando duplicados."
   ]
  },
  {
   "cell_type": "code",
   "execution_count": 33,
   "metadata": {},
   "outputs": [],
   "source": [
    "# Obtener el vocabulario global del corpus\n",
    "vocabulario = set()\n",
    "for documento in datos:\n",
    "    palabras = limpiar_texto(documento['text']).split()\n",
    "    vocabulario.update(palabras)  # Agregar palabras al vocabulario sin duplicados"
   ]
  },
  {
   "cell_type": "code",
   "execution_count": 35,
   "metadata": {},
   "outputs": [
    {
     "name": "stdout",
     "output_type": "stream",
     "text": [
      "Vocabulario total: 229 términos.\n",
      "{'embargo', 'buscan', 'telemedicina', 'importar', 'generos', 'beneficios', 'mas', 'facilitando', 'falta', 'cuando', 'avanzadas', 'tambien', 'donde', 'promueven', 'es', 'aumentada', 'se', 'tiempo', 'permitiendo', 'anos', 'adoptando', 'especialmente', 'artificial', 'inmersivos', 'uno', 'personas', 'compras', 'diarias', 'eficiencia', 'consumidores', 'invita', 'sin', 'tecnologicos', 'con', 'populares', 'compramos', 'nuevo', 'etica', 'integral', 'ubicacion', 'personalizados', 'todo', 'ficcion', 'explorando', 'sectores', 'avanzando', 'fundamental', 'desde', 'eficaces', 'de', 'diagnostican', 'mejorar', 'optimizando', 'que', 'cinematograficas', 'a', 'accesibles', 'humanidad', 'decisiones', 'principal', 'transformando', 'videojuegos', 'medicina', 'aumento', 'cine', 'perpetuen', 'planetas', 'acceder', 'competencias', 'aprendizaje', 'hasta', 'enfoque', 'presencial', 'cada', 'contenido', 'entretiene', 'pueden', 'salud', 'experiencias', 'enfermedades', 'distancia', 'y', 'viaje', 'comercio', 'plataformas', 'genero', 'completo', 'un', 'virtuales', 'literarios', 'prioridad', 'algoritmos', 'profesionales', 'millones', 'mundo', 'habilidades', 'en', 'convertido', 'vida', 'digitales', 'crear', 'reflexionar', 'sobre', 'cambiando', 'mundos', 'las', 'sean', 'atraen', 'realidad', 'para', 'contexto', 'creciente', 'sesgos', 'nuevas', 'estan', 'dispositivos', 'basadas', 'monitorean', 'impulsa', 'mejorando', 'demanda', 'llevado', 'solo', 'datos', 'no', 'tecnologia', 'aunque', 'reto', 'ademas', 'consume', 'implicaciones', 'desarrollo', 'usuario', 'alcanzado', 'democratizando', 'efectos', 'una', 'flexibilidad', 'continua', 'ahora', 'incorporando', 'otros', 'tratan', 'sino', 'jugadores', 'cambiado', 'programas', 'temas', 'aplicaciones', 'futuro', 'realistas', 'peliculas', 'espectadores', 'visuales', 'adopcion', 'mercado', 'vez', 'personal', 'la', 'finanzas', 'este', 'como', 'prometedor', 'experiencia', 'desafian', 'ha', 'el', 'real', 'medicos', 'saludables', 'muchas', 'empresas', 'linea', 'rapidos', 'rapidamente', 'transformado', 'tecnologias', 'interaccion', 'inteligencia', 'interactuar', 'educacion', 'esta', 'forma', 'justas', 'esports', 'mayores', 'aquellos', 'bienestar', 'siendo', 'avances', 'ciencia', 'cursos', 'calidad', 'escenas', 'ofrecer', 'electronico', 'libros', 'desafio', 'utilizan', 'habitos', 'individual', 'evolucionado', 'cuidados', 'crecimiento', 'educativa', 'acceso', 'sus', 'mejores', 'series', 'personalizadas', 'su', 'tratamientos', 'streaming', 'los', 'nivel', 'pagos', 'automatico', 'recomendaciones', 'garantizar', 'estudiantes', 'permitido', 'portatiles', 'producciones', 'sigue', 'herramientas', 'siguen', 'transacciones', 'trabajos', 'publico'}\n"
     ]
    }
   ],
   "source": [
    "print(f\"Vocabulario total: {len(vocabulario)} términos.\")\n",
    "print(vocabulario)"
   ]
  }
 ],
 "metadata": {
  "kernelspec": {
   "display_name": "Python 3",
   "language": "python",
   "name": "python3"
  },
  "language_info": {
   "codemirror_mode": {
    "name": "ipython",
    "version": 3
   },
   "file_extension": ".py",
   "mimetype": "text/x-python",
   "name": "python",
   "nbconvert_exporter": "python",
   "pygments_lexer": "ipython3",
   "version": "3.8.10"
  }
 },
 "nbformat": 4,
 "nbformat_minor": 2
}
