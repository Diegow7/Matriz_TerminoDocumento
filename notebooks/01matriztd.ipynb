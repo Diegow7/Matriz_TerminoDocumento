{
 "cells": [
  {
   "cell_type": "markdown",
   "metadata": {},
   "source": [
    "### Ejercicio 01: Recuperación de Información Basado en el Modelo de Matriz Término-Documento\n",
    "\n",
    "En este ejercicio, trabajaremos con un corpus de documentos en formato JSON para implementar un sistema de Recuperación de Información basado en el modelo de espacio vectorial. Seguirás los siguientes pasos:\n",
    "\n",
    "#### Paso 1: Determinar un vocabulario\n",
    "El primer paso es cargar el corpus en formato JSON, extraer los textos de los documentos y crear el vocabulario.\n"
   ]
  },
  {
   "cell_type": "code",
   "execution_count": 34,
   "metadata": {},
   "outputs": [],
   "source": [
    "import json\n",
    "import unicodedata\n",
    "\n",
    "datos = []\n",
    "with open(file='../data/01matriztd_corpus.json', mode='r', encoding='utf-8') as file:\n",
    "    datos = json.load(file)"
   ]
  },
  {
   "cell_type": "markdown",
   "metadata": {},
   "source": [
    "#### Paso 1.1: Verificar y visualizar que el contenido se haya extraido correctamente\n",
    "Una vez cargado el corpus, procedemos a imprimir el contenido de los documentos y a comprobar que sea el mismo que nuestra data."
   ]
  },
  {
   "cell_type": "code",
   "execution_count": 35,
   "metadata": {},
   "outputs": [
    {
     "name": "stdout",
     "output_type": "stream",
     "text": [
      "la inteligencia artificial continúa avanzando rápidamente, transformando sectores como la salud y las finanzas. las empresas están adoptando algoritmos de aprendizaje automático para mejorar la eficiencia. sin embargo, el desafío principal sigue siendo garantizar que las decisiones basadas en datos sean justas y no perpetúen sesgos. la ética es fundamental en este contexto.\n",
      "\n",
      "--------------------------------------------------\n",
      "\n",
      "el desarrollo de videojuegos ha alcanzado un nuevo nivel con tecnologías como la realidad aumentada y la inteligencia artificial. los jugadores ahora pueden interactuar en mundos virtuales más inmersivos. este crecimiento también impulsa el mercado de los e-sports, donde las competencias profesionales atraen a millones de espectadores en todo el mundo.\n",
      "\n",
      "--------------------------------------------------\n",
      "\n",
      "el comercio electrónico ha cambiado la forma en que compramos. con la creciente demanda de compras en línea, las empresas están optimizando sus plataformas digitales para ofrecer mejores experiencias de usuario. desde recomendaciones personalizadas hasta pagos rápidos, los avances en tecnología siguen facilitando las transacciones diarias de los consumidores.\n",
      "\n",
      "--------------------------------------------------\n",
      "\n",
      "la educación a distancia ha permitido a millones de estudiantes acceder a programas de calidad sin importar su ubicación. la flexibilidad es uno de los mayores beneficios, especialmente para aquellos con trabajos a tiempo completo. aunque la falta de interacción presencial es un reto, las herramientas digitales siguen mejorando la experiencia educativa.\n",
      "\n",
      "--------------------------------------------------\n",
      "\n",
      "el cine ha evolucionado con los años, incorporando efectos visuales cada vez más realistas. las producciones cinematográficas utilizan tecnologías avanzadas para crear escenas que desafían la realidad. además, el acceso a plataformas de streaming ha transformado cómo y cuándo el público consume contenido, democratizando el acceso a películas y series.\n",
      "\n",
      "--------------------------------------------------\n",
      "\n",
      "la ciencia ficción es uno de los géneros literarios más populares, explorando temas como el viaje en el tiempo, la inteligencia artificial y la vida en otros planetas. este género no solo entretiene, sino que también invita a reflexionar sobre el futuro de la humanidad y las implicaciones de los avances tecnológicos.\n",
      "\n",
      "--------------------------------------------------\n",
      "\n",
      "el desarrollo personal se ha convertido en una prioridad para muchas personas que buscan mejorar su calidad de vida. desde la adopción de hábitos saludables hasta el aprendizaje de nuevas habilidades, el enfoque en el crecimiento individual ha llevado a un aumento en la demanda de libros, cursos y aplicaciones que promueven el bienestar integral.\n",
      "\n",
      "--------------------------------------------------\n",
      "\n",
      "los avances en la medicina están cambiando la forma en que se diagnostican y tratan las enfermedades. desde la telemedicina hasta los dispositivos portátiles que monitorean la salud en tiempo real, la tecnología está permitiendo a los médicos ofrecer cuidados más personalizados. el futuro de la medicina es prometedor, con tratamientos más accesibles y eficaces.\n",
      "\n",
      "--------------------------------------------------\n",
      "\n"
     ]
    }
   ],
   "source": [
    "for documento in datos:\n",
    "    print(documento['text'].lower())\n",
    "    print(\"\\n\" + \"-\"*50 + \"\\n\")"
   ]
  },
  {
   "cell_type": "markdown",
   "metadata": {},
   "source": [
    "#### Paso 1.2: Limpieza de texto \n",
    "Creamos una función para limpiar el texto de cada documento y eliminar caracteres especiales."
   ]
  },
  {
   "cell_type": "code",
   "execution_count": 36,
   "metadata": {},
   "outputs": [],
   "source": [
    "def limpiar_texto(texto):\n",
    "    # Eliminar acentos usando unicodedata\n",
    "    texto = ''.join(\n",
    "        (c for c in unicodedata.normalize('NFD', texto) if unicodedata.category(c) != 'Mn')\n",
    "    )\n",
    "    texto = texto.lower()  # Convertir a minúsculas\n",
    "    # Reemplazar caracteres de puntuación individualmente usando replace\n",
    "    for punct in [',', '.', '!', '?', ';', ':', '-', '(', ')', '[', ']', '{', '}', '\"', \"'\"]:\n",
    "        texto = texto.replace(punct, '')  # Eliminar puntuación específica\n",
    "    texto = texto.replace('  ', ' ')  # Reemplazar espacios múltiples con un solo espacio\n",
    "    return texto"
   ]
  },
  {
   "cell_type": "markdown",
   "metadata": {},
   "source": [
    "#### Paso 1.3: Obtención del vocabulario\n",
    "Se inicializa un conjunto vacío vocabulario. Se procede a realizar la limpieza del texto de cada documento y se añaden las palabras únicas al conjunto, eliminando duplicados."
   ]
  },
  {
   "cell_type": "code",
   "execution_count": 37,
   "metadata": {},
   "outputs": [],
   "source": [
    "# Obtener el vocabulario global del corpus\n",
    "vocabulario = set()\n",
    "for documento in datos:\n",
    "    palabras = limpiar_texto(documento['text']).split()\n",
    "    vocabulario.update(palabras)  # Agregar palabras al vocabulario sin duplicados"
   ]
  },
  {
   "cell_type": "code",
   "execution_count": 38,
   "metadata": {},
   "outputs": [
    {
     "name": "stdout",
     "output_type": "stream",
     "text": [
      "Vocabulario total: 229 términos.\n",
      "{'etica', 'optimizando', 'consumidores', 'ha', 'usuario', 'y', 'recomendaciones', 'realidad', 'accesibles', 'prometedor', 'futuro', 'decisiones', 'peliculas', 'transacciones', 'personalizadas', 'finanzas', 'nuevas', 'sin', 'desde', 'aquellos', 'adopcion', 'interactuar', 'populares', 'eficiencia', 'ciencia', 'explorando', 'buscan', 'sectores', 'herramientas', 'vez', 'libros', 'el', 'programas', 'enfermedades', 'mejores', 'anos', 'cambiado', 'nuevo', 'implicaciones', 'dispositivos', 'streaming', 'diagnostican', 'de', 'desafio', 'sean', 'alcanzado', 'algoritmos', 'tecnologias', 'profesionales', 'plataformas', 'beneficios', 'uno', 'trabajos', 'empresas', 'estudiantes', 'producciones', 'entretiene', 'portatiles', 'digitales', 'justas', 'bienestar', 'solo', 'aumentada', 'este', 'facilitando', 'incorporando', 'viaje', 'especialmente', 'planetas', 'ahora', 'a', 'realistas', 'invita', 'cuidados', 'democratizando', 'para', 'forma', 'temas', 'importar', 'garantizar', 'siguen', 'educativa', 'personal', 'es', 'comercio', 'hasta', 'esta', 'tratamientos', 'personalizados', 'genero', 'integral', 'cada', 'electronico', 'linea', 'se', 'tratan', 'cinematograficas', 'rapidamente', 'tecnologia', 'presencial', 'competencias', 'ofrecer', 'donde', 'todo', 'contenido', 'millones', 'continua', 'atraen', 'aplicaciones', 'telemedicina', 'literarios', 'cuando', 'una', 'tiempo', 'falta', 'mundos', 'como', 'desarrollo', 'que', 'mejorar', 'educacion', 'convertido', 'estan', 'utilizan', 'consume', 'ficcion', 'mejorando', 'muchas', 'otros', 'demanda', 'permitido', 'avanzadas', 'cambiando', 'medicos', 'impulsa', 'humanidad', 'medicina', 'compras', 'mayores', 'escenas', 'acceder', 'nivel', 'experiencias', 'evolucionado', 'sino', 'prioridad', 'visuales', 'tambien', 'permitiendo', 'desafian', 'tecnologicos', 'crear', 'rapidos', 'generos', 'diarias', 'mercado', 'las', 'flexibilidad', 'salud', 'sigue', 'embargo', 'crecimiento', 'espectadores', 'sus', 'pueden', 'llevado', 'aprendizaje', 'monitorean', 'datos', 'mas', 'saludables', 'siendo', 'videojuegos', 'personas', 'en', 'compramos', 'transformando', 'enfoque', 'habitos', 'sesgos', 'habilidades', 'inmersivos', 'perpetuen', 'creciente', 'cine', 'interaccion', 'transformado', 'ubicacion', 'virtuales', 'reflexionar', 'completo', 'series', 'cursos', 'reto', 'experiencia', 'mundo', 'inteligencia', 'los', 'pagos', 'fundamental', 'ademas', 'acceso', 'vida', 'automatico', 'artificial', 'con', 'publico', 'real', 'no', 'jugadores', 'adoptando', 'la', 'sobre', 'efectos', 'promueven', 'basadas', 'calidad', 'esports', 'contexto', 'avanzando', 'avances', 'su', 'eficaces', 'un', 'individual', 'aunque', 'aumento', 'principal', 'distancia'}\n"
     ]
    }
   ],
   "source": [
    "print(f\"Vocabulario total: {len(vocabulario)} términos.\")\n",
    "print(vocabulario)"
   ]
  },
  {
   "cell_type": "markdown",
   "metadata": {},
   "source": [
    "### Paso 2: Calcular una matriz término-documento\n",
    "Una vez que tenemos el vocabulario, el siguiente paso es construir una matriz término-documento, que nos permitirá representar cada documento como un vector en el espacio de términos."
   ]
  },
  {
   "cell_type": "code",
   "execution_count": 39,
   "metadata": {},
   "outputs": [],
   "source": [
    "def crear_vector(texto, vocabulario):\n",
    "    # Vector de frecuencia binaria (presencia/ausencia)\n",
    "    texto = limpiar_texto(texto)\n",
    "     # Crea un vector que representa la presencia (1) o ausencia (0) de cada palabra del vocabulario en el texto\n",
    "    vector = [1 if palabra in texto.split() else 0 for palabra in vocabulario]\n",
    "    return vector"
   ]
  },
  {
   "cell_type": "code",
   "execution_count": 40,
   "metadata": {},
   "outputs": [
    {
     "name": "stdout",
     "output_type": "stream",
     "text": [
      "Matriz Término-Documento creada.\n",
      "[[1, 0, 0, 0, 0, 1, 0, 0, 0, 0, 0, 1, 0, 0, 0, 1, 0, 1, 0, 0, 0, 0, 0, 1, 0, 0, 0, 1, 0, 0, 0, 1, 0, 0, 0, 0, 0, 0, 0, 0, 0, 0, 1, 1, 1, 0, 1, 0, 0, 0, 0, 0, 0, 1, 0, 0, 0, 0, 0, 1, 0, 0, 0, 1, 0, 0, 0, 0, 0, 0, 0, 0, 0, 0, 0, 1, 0, 0, 0, 1, 0, 0, 0, 1, 0, 0, 0, 0, 0, 0, 0, 0, 0, 0, 0, 0, 0, 1, 0, 0, 0, 0, 0, 0, 0, 0, 1, 0, 0, 0, 0, 0, 0, 0, 0, 0, 1, 0, 1, 1, 0, 0, 1, 0, 0, 0, 0, 0, 0, 0, 0, 0, 0, 0, 0, 0, 0, 0, 0, 0, 0, 0, 0, 0, 0, 0, 0, 0, 0, 0, 0, 0, 0, 0, 0, 0, 1, 0, 1, 1, 1, 0, 0, 0, 0, 0, 1, 0, 1, 0, 0, 1, 0, 0, 1, 0, 1, 0, 0, 1, 0, 0, 1, 0, 0, 0, 0, 0, 0, 0, 0, 0, 0, 0, 0, 0, 1, 0, 0, 1, 0, 0, 0, 1, 1, 0, 0, 0, 1, 0, 1, 1, 0, 0, 0, 1, 0, 0, 1, 1, 0, 0, 0, 0, 0, 0, 0, 1, 0], [0, 0, 0, 1, 0, 1, 0, 1, 0, 0, 0, 0, 0, 0, 0, 0, 0, 0, 0, 0, 0, 1, 0, 0, 0, 0, 0, 0, 0, 0, 0, 1, 0, 0, 0, 0, 0, 1, 0, 0, 0, 0, 1, 0, 0, 1, 0, 1, 1, 0, 0, 0, 0, 0, 0, 0, 0, 0, 0, 0, 0, 0, 1, 1, 0, 0, 0, 0, 0, 1, 1, 0, 0, 0, 0, 0, 0, 0, 0, 0, 0, 0, 0, 0, 0, 0, 0, 0, 0, 0, 0, 0, 0, 0, 0, 0, 0, 0, 0, 0, 1, 0, 1, 1, 0, 1, 0, 1, 0, 0, 0, 0, 0, 0, 0, 1, 1, 1, 0, 0, 0, 0, 0, 0, 0, 0, 0, 0, 0, 0, 0, 0, 0, 0, 1, 0, 0, 0, 0, 0, 0, 1, 0, 0, 0, 0, 0, 1, 0, 0, 0, 0, 0, 0, 0, 1, 1, 0, 0, 0, 0, 1, 1, 0, 1, 0, 0, 0, 0, 1, 0, 0, 1, 0, 1, 0, 0, 0, 0, 0, 0, 1, 0, 0, 0, 0, 0, 0, 1, 0, 0, 0, 0, 0, 0, 1, 1, 1, 0, 0, 0, 0, 0, 0, 1, 1, 0, 0, 0, 1, 0, 1, 0, 0, 0, 0, 0, 1, 0, 0, 0, 0, 0, 1, 0, 0, 0, 0, 0], [0, 1, 1, 1, 1, 0, 1, 0, 0, 0, 0, 0, 0, 1, 1, 0, 0, 0, 1, 0, 0, 0, 0, 0, 0, 0, 0, 0, 0, 0, 0, 1, 0, 0, 1, 0, 1, 0, 0, 0, 0, 0, 1, 0, 0, 0, 0, 0, 0, 1, 0, 0, 0, 1, 0, 0, 0, 0, 1, 0, 0, 0, 0, 0, 1, 0, 0, 0, 0, 0, 0, 0, 0, 0, 0, 1, 1, 0, 0, 0, 1, 0, 0, 0, 1, 1, 0, 0, 0, 0, 0, 0, 1, 1, 0, 0, 0, 0, 1, 0, 0, 1, 0, 0, 0, 0, 0, 0, 0, 0, 0, 0, 0, 0, 0, 0, 0, 0, 1, 0, 0, 0, 1, 0, 0, 0, 0, 0, 0, 1, 0, 0, 0, 0, 0, 0, 0, 1, 0, 0, 0, 0, 1, 0, 0, 0, 0, 0, 0, 0, 0, 0, 1, 0, 1, 0, 1, 0, 0, 0, 0, 0, 0, 1, 0, 0, 0, 0, 0, 0, 0, 0, 0, 0, 1, 1, 0, 0, 0, 0, 0, 0, 0, 1, 0, 0, 0, 0, 0, 0, 0, 0, 0, 0, 0, 0, 0, 1, 1, 0, 0, 0, 0, 0, 0, 1, 0, 0, 0, 0, 0, 1, 0, 0, 0, 0, 0, 0, 0, 0, 1, 0, 0, 0, 0, 0, 0, 0, 0], [0, 0, 0, 1, 0, 0, 0, 0, 0, 0, 0, 0, 0, 0, 0, 0, 0, 1, 0, 1, 0, 0, 0, 0, 0, 0, 0, 0, 1, 0, 0, 0, 1, 0, 0, 0, 0, 0, 0, 0, 0, 0, 1, 0, 0, 0, 0, 0, 0, 0, 1, 1, 1, 0, 1, 0, 0, 0, 1, 0, 0, 0, 0, 0, 0, 0, 0, 1, 0, 0, 1, 0, 0, 0, 0, 1, 0, 0, 1, 0, 1, 1, 0, 1, 0, 0, 0, 0, 0, 0, 0, 0, 0, 0, 0, 0, 0, 0, 0, 1, 0, 0, 0, 0, 0, 1, 0, 0, 0, 0, 0, 0, 0, 1, 1, 0, 0, 0, 0, 0, 1, 0, 0, 0, 0, 0, 1, 0, 0, 0, 1, 0, 0, 0, 0, 0, 0, 0, 1, 0, 1, 0, 0, 0, 0, 0, 0, 0, 0, 0, 0, 0, 0, 0, 0, 0, 1, 1, 0, 0, 0, 0, 0, 0, 0, 0, 0, 0, 0, 0, 0, 0, 0, 0, 0, 0, 0, 0, 0, 0, 0, 0, 0, 0, 0, 1, 0, 1, 0, 0, 1, 0, 0, 1, 1, 0, 0, 1, 0, 0, 0, 0, 0, 0, 0, 1, 0, 0, 0, 0, 0, 1, 0, 0, 0, 0, 1, 0, 0, 0, 0, 1, 0, 1, 0, 1, 0, 0, 1], [0, 0, 0, 1, 0, 1, 0, 1, 0, 0, 0, 0, 1, 0, 0, 0, 0, 0, 0, 0, 0, 0, 0, 0, 0, 0, 0, 0, 0, 1, 0, 1, 0, 0, 0, 1, 0, 0, 0, 0, 1, 0, 1, 0, 0, 0, 0, 1, 0, 1, 0, 0, 0, 0, 0, 1, 0, 0, 0, 0, 0, 0, 0, 0, 0, 1, 0, 0, 0, 0, 1, 1, 0, 0, 1, 1, 0, 0, 0, 0, 0, 0, 0, 0, 0, 0, 0, 0, 0, 0, 0, 1, 0, 0, 0, 0, 1, 0, 0, 0, 0, 0, 0, 0, 1, 0, 0, 0, 0, 0, 0, 1, 0, 0, 0, 0, 1, 0, 1, 0, 0, 0, 0, 1, 1, 0, 0, 0, 0, 0, 0, 1, 0, 0, 0, 0, 0, 0, 0, 1, 0, 0, 0, 1, 0, 0, 1, 0, 0, 1, 0, 1, 0, 0, 0, 0, 1, 0, 0, 0, 0, 0, 0, 0, 0, 0, 0, 0, 0, 1, 0, 0, 0, 0, 0, 0, 0, 0, 0, 0, 0, 0, 0, 0, 1, 0, 1, 0, 0, 0, 0, 1, 0, 0, 0, 0, 0, 1, 0, 0, 1, 1, 0, 0, 0, 1, 1, 0, 0, 0, 0, 1, 0, 1, 0, 0, 0, 0, 0, 0, 0, 0, 0, 0, 0, 0, 0, 0, 0], [0, 0, 0, 0, 0, 1, 0, 0, 0, 0, 1, 0, 0, 0, 0, 0, 0, 0, 0, 0, 0, 0, 1, 0, 1, 1, 0, 0, 0, 0, 0, 1, 0, 0, 0, 0, 0, 0, 1, 0, 0, 0, 1, 0, 0, 0, 0, 0, 0, 0, 0, 1, 0, 0, 0, 0, 1, 0, 0, 0, 0, 1, 0, 1, 0, 0, 1, 0, 1, 0, 1, 0, 1, 0, 0, 0, 0, 1, 0, 0, 0, 0, 0, 1, 0, 0, 0, 0, 0, 1, 0, 0, 0, 0, 0, 0, 0, 0, 0, 0, 0, 0, 0, 0, 0, 0, 0, 0, 0, 0, 1, 0, 0, 1, 0, 0, 1, 0, 1, 0, 0, 0, 0, 0, 0, 1, 0, 0, 1, 0, 0, 0, 0, 0, 0, 1, 0, 0, 0, 0, 0, 0, 0, 0, 1, 0, 0, 1, 0, 0, 1, 0, 0, 1, 0, 0, 1, 0, 0, 0, 0, 0, 0, 0, 0, 0, 0, 0, 0, 1, 0, 0, 0, 0, 1, 0, 0, 0, 0, 0, 0, 0, 0, 0, 0, 0, 0, 0, 0, 1, 0, 0, 0, 0, 0, 0, 1, 1, 0, 0, 0, 0, 1, 0, 1, 0, 0, 0, 1, 0, 0, 1, 1, 0, 0, 0, 0, 0, 0, 0, 1, 0, 0, 0, 0, 0, 0, 0, 0], [0, 0, 0, 1, 0, 1, 0, 0, 0, 0, 0, 0, 0, 0, 0, 0, 1, 0, 1, 0, 1, 0, 0, 0, 0, 0, 1, 0, 0, 0, 1, 1, 0, 0, 0, 0, 0, 0, 0, 0, 0, 0, 1, 0, 0, 0, 0, 0, 0, 0, 0, 0, 0, 0, 0, 0, 0, 0, 0, 0, 1, 0, 0, 0, 0, 0, 0, 0, 0, 0, 1, 0, 0, 0, 0, 1, 0, 0, 0, 0, 0, 0, 1, 0, 0, 1, 0, 0, 0, 0, 1, 0, 0, 0, 1, 0, 0, 0, 0, 0, 0, 0, 0, 0, 0, 0, 0, 0, 1, 0, 0, 0, 1, 0, 0, 0, 0, 1, 1, 1, 0, 1, 0, 0, 0, 0, 0, 1, 0, 1, 0, 0, 0, 0, 0, 0, 0, 0, 0, 0, 0, 0, 0, 0, 0, 1, 0, 0, 0, 0, 0, 0, 0, 0, 0, 0, 0, 0, 0, 0, 0, 1, 0, 0, 0, 1, 1, 0, 0, 0, 1, 0, 0, 1, 1, 0, 0, 1, 1, 0, 1, 0, 0, 0, 0, 0, 0, 0, 0, 0, 0, 0, 1, 0, 0, 0, 0, 0, 0, 0, 0, 0, 1, 0, 0, 0, 0, 0, 0, 0, 0, 1, 0, 0, 1, 0, 1, 0, 0, 0, 0, 1, 0, 1, 1, 0, 1, 0, 0], [0, 0, 0, 0, 0, 1, 0, 0, 1, 1, 1, 0, 0, 0, 0, 0, 0, 0, 1, 0, 0, 0, 0, 0, 0, 0, 0, 0, 0, 0, 0, 1, 0, 1, 0, 0, 0, 0, 0, 1, 0, 1, 1, 0, 0, 0, 0, 0, 0, 0, 0, 0, 0, 0, 0, 0, 0, 1, 0, 0, 0, 0, 0, 0, 0, 0, 0, 0, 0, 0, 1, 0, 0, 1, 0, 0, 1, 0, 0, 0, 0, 0, 0, 1, 0, 1, 1, 1, 1, 0, 0, 0, 0, 0, 1, 1, 0, 0, 1, 0, 0, 1, 0, 0, 0, 0, 0, 0, 0, 1, 0, 0, 0, 1, 0, 0, 0, 0, 1, 0, 0, 0, 1, 0, 0, 0, 0, 0, 0, 0, 0, 0, 1, 1, 0, 0, 1, 0, 0, 0, 0, 0, 0, 0, 0, 0, 0, 0, 1, 0, 0, 0, 0, 0, 0, 0, 1, 0, 1, 0, 0, 0, 0, 0, 0, 0, 0, 1, 0, 1, 0, 0, 0, 0, 1, 0, 0, 0, 0, 0, 0, 0, 0, 0, 0, 0, 0, 0, 0, 0, 0, 0, 0, 0, 0, 0, 0, 1, 0, 0, 0, 0, 0, 0, 0, 1, 0, 1, 0, 0, 0, 1, 0, 0, 0, 0, 0, 0, 0, 0, 1, 0, 1, 0, 0, 0, 0, 0, 0]]\n"
     ]
    }
   ],
   "source": [
    "# Generar la matriz término-documento para todo el corpus\n",
    "# Cada fila representa un documento y cada columna representa una palabra del vocabulario\n",
    "matriz_td = [crear_vector(documento['text'], vocabulario) for documento in datos]\n",
    "print(\"Matriz Término-Documento creada.\")\n",
    "print(matriz_td)"
   ]
  },
  {
   "cell_type": "markdown",
   "metadata": {},
   "source": [
    "### Paso 3: Obtener una representación de una query en el espacio término-documento\n",
    "Ahora vamos a representar una *query* como un vector en el mismo espacio de términos que hicimos para el corpus."
   ]
  },
  {
   "cell_type": "code",
   "execution_count": 41,
   "metadata": {},
   "outputs": [
    {
     "name": "stdout",
     "output_type": "stream",
     "text": [
      "Vector de la query:\n",
      "[0, 0, 0, 0, 0, 0, 0, 0, 0, 0, 0, 0, 0, 0, 0, 0, 0, 0, 0, 0, 0, 0, 0, 0, 0, 0, 0, 0, 0, 0, 0, 0, 0, 0, 0, 0, 0, 0, 0, 0, 0, 0, 0, 0, 0, 0, 0, 0, 0, 0, 0, 0, 0, 0, 0, 0, 0, 0, 0, 0, 0, 0, 0, 0, 0, 0, 0, 0, 0, 0, 0, 0, 0, 0, 0, 0, 0, 0, 0, 0, 0, 0, 0, 0, 0, 0, 0, 0, 0, 0, 0, 0, 0, 0, 0, 0, 0, 0, 0, 0, 0, 0, 0, 0, 0, 0, 0, 0, 0, 0, 0, 0, 0, 0, 0, 0, 0, 0, 0, 0, 0, 0, 0, 0, 0, 0, 0, 0, 0, 0, 0, 0, 0, 0, 0, 0, 1, 0, 0, 0, 0, 0, 0, 0, 0, 0, 0, 0, 0, 0, 0, 0, 0, 0, 0, 0, 0, 0, 0, 0, 0, 0, 0, 0, 0, 0, 0, 0, 0, 0, 0, 0, 0, 0, 1, 0, 0, 0, 0, 0, 0, 0, 0, 0, 0, 0, 0, 0, 0, 0, 0, 0, 0, 0, 0, 0, 1, 0, 0, 0, 0, 0, 0, 0, 1, 0, 0, 0, 0, 0, 0, 0, 0, 0, 0, 0, 0, 0, 0, 0, 0, 0, 0, 0, 0, 0, 0, 0, 0]\n"
     ]
    }
   ],
   "source": [
    "# Paso 3: Representar la query como un vector\n",
    "query = \"inteligencia artificial en medicina\"\n",
    "vector_query = crear_vector(query, vocabulario)\n",
    "print(\"Vector de la query:\")\n",
    "print(vector_query)"
   ]
  },
  {
   "cell_type": "markdown",
   "metadata": {},
   "source": [
    "### Paso 4: Calcular la distancia entre la query y todos los documentos del corpus\n",
    "Al obtener la distancia Jaccard entre la *query* y cada documento del corpus, calculamos la relevancia que tiene cada documento para la *query*."
   ]
  },
  {
   "cell_type": "code",
   "execution_count": 42,
   "metadata": {},
   "outputs": [],
   "source": [
    "def distancia_jaccard(vector_a, vector_b):\n",
    "    # Calcular intersección y unión\n",
    "    interseccion = sum([1 for a, b in zip(vector_a, vector_b) if a == 1 and b == 1])\n",
    "    union = sum([1 for a, b in zip(vector_a, vector_b) if a == 1 or b == 1])\n",
    "    return interseccion / union if union != 0 else 0"
   ]
  },
  {
   "cell_type": "markdown",
   "metadata": {},
   "source": [
    "### Paso 4.1: Calcular y mostrar similitudes de Jaccard\n",
    "A continuación, se calcula la similitud de Jaccard entre la consulta y cada documento, imprimiendo los resultados y el texto de cada documento."
   ]
  },
  {
   "cell_type": "code",
   "execution_count": 43,
   "metadata": {},
   "outputs": [
    {
     "name": "stdout",
     "output_type": "stream",
     "text": [
      "Documento 1 (Similitud Jaccard: 0.0638)\n",
      "Texto: La inteligencia artificial continúa avanzando rápidamente, transformando sectores como la salud y las finanzas. Las empresas están adoptando algoritmos de aprendizaje automático para mejorar la eficiencia. Sin embargo, el desafío principal sigue siendo garantizar que las decisiones basadas en datos sean justas y no perpetúen sesgos. La ética es fundamental en este contexto.\n",
      "\n",
      "--------------------------------------------------\n",
      "\n",
      "Documento 2 (Similitud Jaccard: 0.0667)\n",
      "Texto: El desarrollo de videojuegos ha alcanzado un nuevo nivel con tecnologías como la realidad aumentada y la inteligencia artificial. Los jugadores ahora pueden interactuar en mundos virtuales más inmersivos. Este crecimiento también impulsa el mercado de los e-sports, donde las competencias profesionales atraen a millones de espectadores en todo el mundo.\n",
      "\n",
      "--------------------------------------------------\n",
      "\n",
      "Documento 3 (Similitud Jaccard: 0.0222)\n",
      "Texto: El comercio electrónico ha cambiado la forma en que compramos. Con la creciente demanda de compras en línea, las empresas están optimizando sus plataformas digitales para ofrecer mejores experiencias de usuario. Desde recomendaciones personalizadas hasta pagos rápidos, los avances en tecnología siguen facilitando las transacciones diarias de los consumidores.\n",
      "\n",
      "--------------------------------------------------\n",
      "\n",
      "Documento 4 (Similitud Jaccard: 0.0000)\n",
      "Texto: La educación a distancia ha permitido a millones de estudiantes acceder a programas de calidad sin importar su ubicación. La flexibilidad es uno de los mayores beneficios, especialmente para aquellos con trabajos a tiempo completo. Aunque la falta de interacción presencial es un reto, las herramientas digitales siguen mejorando la experiencia educativa.\n",
      "\n",
      "--------------------------------------------------\n",
      "\n",
      "Documento 5 (Similitud Jaccard: 0.0000)\n",
      "Texto: El cine ha evolucionado con los años, incorporando efectos visuales cada vez más realistas. Las producciones cinematográficas utilizan tecnologías avanzadas para crear escenas que desafían la realidad. Además, el acceso a plataformas de streaming ha transformado cómo y cuándo el público consume contenido, democratizando el acceso a películas y series.\n",
      "\n",
      "--------------------------------------------------\n",
      "\n",
      "Documento 6 (Similitud Jaccard: 0.0698)\n",
      "Texto: La ciencia ficción es uno de los géneros literarios más populares, explorando temas como el viaje en el tiempo, la inteligencia artificial y la vida en otros planetas. Este género no solo entretiene, sino que también invita a reflexionar sobre el futuro de la humanidad y las implicaciones de los avances tecnológicos.\n",
      "\n",
      "--------------------------------------------------\n",
      "\n",
      "Documento 7 (Similitud Jaccard: 0.0217)\n",
      "Texto: El desarrollo personal se ha convertido en una prioridad para muchas personas que buscan mejorar su calidad de vida. Desde la adopción de hábitos saludables hasta el aprendizaje de nuevas habilidades, el enfoque en el crecimiento individual ha llevado a un aumento en la demanda de libros, cursos y aplicaciones que promueven el bienestar integral.\n",
      "\n",
      "--------------------------------------------------\n",
      "\n",
      "Documento 8 (Similitud Jaccard: 0.0455)\n",
      "Texto: Los avances en la medicina están cambiando la forma en que se diagnostican y tratan las enfermedades. Desde la telemedicina hasta los dispositivos portátiles que monitorean la salud en tiempo real, la tecnología está permitiendo a los médicos ofrecer cuidados más personalizados. El futuro de la medicina es prometedor, con tratamientos más accesibles y eficaces.\n",
      "\n",
      "--------------------------------------------------\n",
      "\n"
     ]
    }
   ],
   "source": [
    "# Calcular la similitud y presentar los resultados\n",
    "for i, doc_vector in enumerate(matriz_td):\n",
    "    similitud = distancia_jaccard(vector_query, doc_vector)\n",
    "    print(f\"Documento {i + 1} (Similitud Jaccard: {similitud:.4f})\")\n",
    "    print(f\"Texto: {datos[i]['text']}\")\n",
    "    print(\"\\n\" + \"-\"*50 + \"\\n\")"
   ]
  },
  {
   "cell_type": "markdown",
   "metadata": {},
   "source": [
    "### Paso 5: Entregar los resultados de la búsqueda al usuario\n",
    "A partir de la *query*, debemos indicar al usuario cuáles documentos son los más relevantes. Se debe presentar la información en orden de relevancia."
   ]
  },
  {
   "cell_type": "code",
   "execution_count": 44,
   "metadata": {},
   "outputs": [],
   "source": [
    "resultados = []\n",
    "# Calcular la similitud y almacenar los resultados\n",
    "for i, doc_vector in enumerate(matriz_td):\n",
    "    similitud = distancia_jaccard(vector_query, doc_vector)\n",
    "    resultados.append((i + 1, similitud, datos[i]['text']))  # Almacena el índice, similitud y texto"
   ]
  },
  {
   "cell_type": "markdown",
   "metadata": {},
   "source": [
    "### Paso 5.1: Ordenamiento de Resultados\n",
    "Se obtiene una la lista ordenada de resultados, que contiene pares de documentos y sus similitudes, de mayor a menor. Utiliza *sorted* con una función *lambda* para ordenar por el segundo elemento (similitud) y *reverse=True* para un orden descendente."
   ]
  },
  {
   "cell_type": "code",
   "execution_count": 45,
   "metadata": {},
   "outputs": [],
   "source": [
    "# Ordenar los resultados por similitud (de mayor a menor)\n",
    "resultados_ordenados = sorted(resultados, key=lambda x: x[1], reverse=True)"
   ]
  },
  {
   "cell_type": "code",
   "execution_count": 46,
   "metadata": {},
   "outputs": [
    {
     "name": "stdout",
     "output_type": "stream",
     "text": [
      "\n",
      "Resultado de Búsqueda para la query: 'inteligencia artificial en medicina'\n",
      "Documento 6 (Similitud Jaccard: 0.0698)\n",
      "Documento 2 (Similitud Jaccard: 0.0667)\n",
      "Documento 1 (Similitud Jaccard: 0.0638)\n",
      "Documento 8 (Similitud Jaccard: 0.0455)\n",
      "Documento 3 (Similitud Jaccard: 0.0222)\n",
      "Documento 7 (Similitud Jaccard: 0.0217)\n",
      "Documento 4 (Similitud Jaccard: 0.0000)\n",
      "Documento 5 (Similitud Jaccard: 0.0000)\n",
      "\n",
      "\n"
     ]
    }
   ],
   "source": [
    "# Mostrar los resultados ordenados\n",
    "print(f\"\\nResultado de Búsqueda para la query: '{query}'\")\n",
    "for idx, sim, text in resultados_ordenados:\n",
    "    print(f\"Documento {idx} (Similitud Jaccard: {sim:.4f})\")\n",
    "print(\"\\n\")"
   ]
  },
  {
   "cell_type": "markdown",
   "metadata": {},
   "source": [
    "### Paso 5.2: Carga de Consultas\n",
    "Se abre un archivo JSON que a su vez contiene una lista de consultas en la variable *consultas*."
   ]
  },
  {
   "cell_type": "code",
   "execution_count": 47,
   "metadata": {},
   "outputs": [
    {
     "name": "stdout",
     "output_type": "stream",
     "text": [
      "Consultas cargadas:\n",
      "inteligencia artificial en medicina\n",
      "beneficios de la educación a distancia\n",
      "realidad aumentada en videojuegos\n",
      "desarrollo personal y hábitos saludables\n",
      "futuro del comercio electrónico\n",
      "tecnologías en cine moderno\n",
      "competencias de e-sports\n",
      "diagnóstico con dispositivos portátiles\n",
      "literatura de ciencia ficción\n",
      "plataformas de streaming\n"
     ]
    }
   ],
   "source": [
    "# Cargar las consultas desde el archivo JSON\n",
    "with open('../data/01queries.json', 'r', encoding='utf-8') as file:\n",
    "    consultas = json.load(file)\n",
    "\n",
    "# Verificar que las consultas se han cargado correctamente\n",
    "print(\"Consultas cargadas:\")\n",
    "for query in consultas:\n",
    "    print(query)"
   ]
  },
  {
   "cell_type": "markdown",
   "metadata": {},
   "source": [
    "### Paso 5.3: Calculo y Ranking de Resultados por Similitud (Jaccard) para cada Consulta\n",
    "Se recorre cada consulta dentro del archivo *01queries.json*, crea su vector de consulta, calcula la similitud con cada documento usando Jaccard, ordena los resultados de mayor a menor y presenta los documentos en orden de relevancia para cada consulta."
   ]
  },
  {
   "cell_type": "code",
   "execution_count": 48,
   "metadata": {},
   "outputs": [
    {
     "name": "stdout",
     "output_type": "stream",
     "text": [
      "\n",
      "Resultado de Búsqueda para la query: 'inteligencia artificial en medicina'\n",
      "Documento 6 (Similitud Jaccard: 0.0698)\n",
      "Documento 2 (Similitud Jaccard: 0.0667)\n",
      "Documento 1 (Similitud Jaccard: 0.0638)\n",
      "Documento 8 (Similitud Jaccard: 0.0455)\n",
      "Documento 3 (Similitud Jaccard: 0.0222)\n",
      "Documento 7 (Similitud Jaccard: 0.0217)\n",
      "Documento 4 (Similitud Jaccard: 0.0000)\n",
      "Documento 5 (Similitud Jaccard: 0.0000)\n",
      "\n",
      "Resultado de Búsqueda para la query: 'beneficios de la educación a distancia'\n",
      "Documento 6 (Similitud Jaccard: 0.0698)\n",
      "Documento 2 (Similitud Jaccard: 0.0667)\n",
      "Documento 1 (Similitud Jaccard: 0.0638)\n",
      "Documento 8 (Similitud Jaccard: 0.0455)\n",
      "Documento 3 (Similitud Jaccard: 0.0222)\n",
      "Documento 7 (Similitud Jaccard: 0.0217)\n",
      "Documento 4 (Similitud Jaccard: 0.0000)\n",
      "Documento 5 (Similitud Jaccard: 0.0000)\n",
      "\n",
      "Resultado de Búsqueda para la query: 'realidad aumentada en videojuegos'\n",
      "Documento 6 (Similitud Jaccard: 0.0698)\n",
      "Documento 2 (Similitud Jaccard: 0.0667)\n",
      "Documento 1 (Similitud Jaccard: 0.0638)\n",
      "Documento 8 (Similitud Jaccard: 0.0455)\n",
      "Documento 3 (Similitud Jaccard: 0.0222)\n",
      "Documento 7 (Similitud Jaccard: 0.0217)\n",
      "Documento 4 (Similitud Jaccard: 0.0000)\n",
      "Documento 5 (Similitud Jaccard: 0.0000)\n",
      "\n",
      "Resultado de Búsqueda para la query: 'desarrollo personal y hábitos saludables'\n",
      "Documento 6 (Similitud Jaccard: 0.0698)\n",
      "Documento 2 (Similitud Jaccard: 0.0667)\n",
      "Documento 1 (Similitud Jaccard: 0.0638)\n",
      "Documento 8 (Similitud Jaccard: 0.0455)\n",
      "Documento 3 (Similitud Jaccard: 0.0222)\n",
      "Documento 7 (Similitud Jaccard: 0.0217)\n",
      "Documento 4 (Similitud Jaccard: 0.0000)\n",
      "Documento 5 (Similitud Jaccard: 0.0000)\n",
      "\n",
      "Resultado de Búsqueda para la query: 'futuro del comercio electrónico'\n",
      "Documento 6 (Similitud Jaccard: 0.0698)\n",
      "Documento 2 (Similitud Jaccard: 0.0667)\n",
      "Documento 1 (Similitud Jaccard: 0.0638)\n",
      "Documento 8 (Similitud Jaccard: 0.0455)\n",
      "Documento 3 (Similitud Jaccard: 0.0222)\n",
      "Documento 7 (Similitud Jaccard: 0.0217)\n",
      "Documento 4 (Similitud Jaccard: 0.0000)\n",
      "Documento 5 (Similitud Jaccard: 0.0000)\n",
      "\n",
      "Resultado de Búsqueda para la query: 'tecnologías en cine moderno'\n",
      "Documento 6 (Similitud Jaccard: 0.0698)\n",
      "Documento 2 (Similitud Jaccard: 0.0667)\n",
      "Documento 1 (Similitud Jaccard: 0.0638)\n",
      "Documento 8 (Similitud Jaccard: 0.0455)\n",
      "Documento 3 (Similitud Jaccard: 0.0222)\n",
      "Documento 7 (Similitud Jaccard: 0.0217)\n",
      "Documento 4 (Similitud Jaccard: 0.0000)\n",
      "Documento 5 (Similitud Jaccard: 0.0000)\n",
      "\n",
      "Resultado de Búsqueda para la query: 'competencias de e-sports'\n",
      "Documento 6 (Similitud Jaccard: 0.0698)\n",
      "Documento 2 (Similitud Jaccard: 0.0667)\n",
      "Documento 1 (Similitud Jaccard: 0.0638)\n",
      "Documento 8 (Similitud Jaccard: 0.0455)\n",
      "Documento 3 (Similitud Jaccard: 0.0222)\n",
      "Documento 7 (Similitud Jaccard: 0.0217)\n",
      "Documento 4 (Similitud Jaccard: 0.0000)\n",
      "Documento 5 (Similitud Jaccard: 0.0000)\n",
      "\n",
      "Resultado de Búsqueda para la query: 'diagnóstico con dispositivos portátiles'\n",
      "Documento 6 (Similitud Jaccard: 0.0698)\n",
      "Documento 2 (Similitud Jaccard: 0.0667)\n",
      "Documento 1 (Similitud Jaccard: 0.0638)\n",
      "Documento 8 (Similitud Jaccard: 0.0455)\n",
      "Documento 3 (Similitud Jaccard: 0.0222)\n",
      "Documento 7 (Similitud Jaccard: 0.0217)\n",
      "Documento 4 (Similitud Jaccard: 0.0000)\n",
      "Documento 5 (Similitud Jaccard: 0.0000)\n",
      "\n",
      "Resultado de Búsqueda para la query: 'literatura de ciencia ficción'\n",
      "Documento 6 (Similitud Jaccard: 0.0698)\n",
      "Documento 2 (Similitud Jaccard: 0.0667)\n",
      "Documento 1 (Similitud Jaccard: 0.0638)\n",
      "Documento 8 (Similitud Jaccard: 0.0455)\n",
      "Documento 3 (Similitud Jaccard: 0.0222)\n",
      "Documento 7 (Similitud Jaccard: 0.0217)\n",
      "Documento 4 (Similitud Jaccard: 0.0000)\n",
      "Documento 5 (Similitud Jaccard: 0.0000)\n",
      "\n",
      "Resultado de Búsqueda para la query: 'plataformas de streaming'\n",
      "Documento 6 (Similitud Jaccard: 0.0698)\n",
      "Documento 2 (Similitud Jaccard: 0.0667)\n",
      "Documento 1 (Similitud Jaccard: 0.0638)\n",
      "Documento 8 (Similitud Jaccard: 0.0455)\n",
      "Documento 3 (Similitud Jaccard: 0.0222)\n",
      "Documento 7 (Similitud Jaccard: 0.0217)\n",
      "Documento 4 (Similitud Jaccard: 0.0000)\n",
      "Documento 5 (Similitud Jaccard: 0.0000)\n"
     ]
    }
   ],
   "source": [
    "# Calcular la similitud y presentar los resultados para cada consulta\n",
    "for query in consultas:\n",
    "    \n",
    "    vector_query = crear_vector(query, vocabulario)\n",
    "    print(f\"\\nResultado de Búsqueda para la query: '{query}'\")\n",
    "\n",
    "    resultados = []\n",
    "    # Calcular la similitud y almacenar los resultados\n",
    "    for i, doc_vector in enumerate(matriz_td):\n",
    "        similitud = distancia_jaccard(vector_query, doc_vector)\n",
    "        resultados.append((i + 1, similitud, datos[i]['text']))  # Almacena el índice, similitud y texto\n",
    "\n",
    "    # Mostrar los resultados ordenados\n",
    "    for idx, sim, text in resultados_ordenados:\n",
    "        print(f\"Documento {idx} (Similitud Jaccard: {sim:.4f})\")"
   ]
  }
 ],
 "metadata": {
  "kernelspec": {
   "display_name": "Python 3",
   "language": "python",
   "name": "python3"
  },
  "language_info": {
   "codemirror_mode": {
    "name": "ipython",
    "version": 3
   },
   "file_extension": ".py",
   "mimetype": "text/x-python",
   "name": "python",
   "nbconvert_exporter": "python",
   "pygments_lexer": "ipython3",
   "version": "3.8.10"
  }
 },
 "nbformat": 4,
 "nbformat_minor": 2
}
