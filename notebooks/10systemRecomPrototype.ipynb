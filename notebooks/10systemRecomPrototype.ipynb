{
 "cells": [
  {
   "cell_type": "markdown",
   "metadata": {},
   "source": [
    "# Sistema de Recomendación Simple para Fortalecer Habilidades Blandas en Estudiantes de Ingeniería\n",
    "Este cuaderno implementa un prototipo básico de sistema de recomendación basado en los resultados de una encuesta tipo Likert sobre habilidades blandas."
   ]
  },
  {
   "cell_type": "markdown",
   "metadata": {},
   "source": [
    "## Simulación I\n",
    "Se simula un conjunto de datos con respuestas de estudiantes de Ingeniería Química y de Sistemas en una escala Likert del 1 (muy bajo) al 5 (muy alto) sobre habilidades blandas clave.\n"
   ]
  },
  {
   "cell_type": "code",
   "execution_count": 1,
   "metadata": {},
   "outputs": [
    {
     "data": {
      "text/html": [
       "<div>\n",
       "<style scoped>\n",
       "    .dataframe tbody tr th:only-of-type {\n",
       "        vertical-align: middle;\n",
       "    }\n",
       "\n",
       "    .dataframe tbody tr th {\n",
       "        vertical-align: top;\n",
       "    }\n",
       "\n",
       "    .dataframe thead th {\n",
       "        text-align: right;\n",
       "    }\n",
       "</style>\n",
       "<table border=\"1\" class=\"dataframe\">\n",
       "  <thead>\n",
       "    <tr style=\"text-align: right;\">\n",
       "      <th></th>\n",
       "      <th>ID</th>\n",
       "      <th>Carrera</th>\n",
       "      <th>Comunicación</th>\n",
       "      <th>Trabajo en equipo</th>\n",
       "      <th>Empatía</th>\n",
       "      <th>Gestión del ego</th>\n",
       "      <th>Expresión de ideas</th>\n",
       "    </tr>\n",
       "  </thead>\n",
       "  <tbody>\n",
       "    <tr>\n",
       "      <th>0</th>\n",
       "      <td>1</td>\n",
       "      <td>Ing. Química</td>\n",
       "      <td>2</td>\n",
       "      <td>2</td>\n",
       "      <td>1</td>\n",
       "      <td>1</td>\n",
       "      <td>4</td>\n",
       "    </tr>\n",
       "    <tr>\n",
       "      <th>1</th>\n",
       "      <td>2</td>\n",
       "      <td>Ing. Química</td>\n",
       "      <td>3</td>\n",
       "      <td>3</td>\n",
       "      <td>2</td>\n",
       "      <td>1</td>\n",
       "      <td>3</td>\n",
       "    </tr>\n",
       "    <tr>\n",
       "      <th>2</th>\n",
       "      <td>3</td>\n",
       "      <td>Ing. Sistemas</td>\n",
       "      <td>1</td>\n",
       "      <td>4</td>\n",
       "      <td>4</td>\n",
       "      <td>4</td>\n",
       "      <td>1</td>\n",
       "    </tr>\n",
       "    <tr>\n",
       "      <th>3</th>\n",
       "      <td>4</td>\n",
       "      <td>Ing. Sistemas</td>\n",
       "      <td>2</td>\n",
       "      <td>3</td>\n",
       "      <td>3</td>\n",
       "      <td>4</td>\n",
       "      <td>2</td>\n",
       "    </tr>\n",
       "  </tbody>\n",
       "</table>\n",
       "</div>"
      ],
      "text/plain": [
       "   ID        Carrera  Comunicación  Trabajo en equipo  Empatía  \\\n",
       "0   1   Ing. Química             2                  2        1   \n",
       "1   2   Ing. Química             3                  3        2   \n",
       "2   3  Ing. Sistemas             1                  4        4   \n",
       "3   4  Ing. Sistemas             2                  3        3   \n",
       "\n",
       "   Gestión del ego  Expresión de ideas  \n",
       "0                1                   4  \n",
       "1                1                   3  \n",
       "2                4                   1  \n",
       "3                4                   2  "
      ]
     },
     "execution_count": 1,
     "metadata": {},
     "output_type": "execute_result"
    }
   ],
   "source": [
    "import pandas as pd\n",
    "\n",
    "# Simulamos un DataFrame con resultados de una encuesta tipo Likert (1 a 5)\n",
    "data = {\n",
    "    'ID': [1, 2, 3, 4],\n",
    "    'Carrera': ['Ing. Química', 'Ing. Química', 'Ing. Sistemas', 'Ing. Sistemas'],\n",
    "    'Comunicación': [2, 3, 1, 2],\n",
    "    'Trabajo en equipo': [2, 3, 4, 3],\n",
    "    'Empatía': [1, 2, 4, 3],\n",
    "    'Gestión del ego': [1, 1, 4, 4],\n",
    "    'Expresión de ideas': [4, 3, 1, 2]\n",
    "}\n",
    "\n",
    "df = pd.DataFrame(data)\n",
    "df\n"
   ]
  },
  {
   "cell_type": "markdown",
   "metadata": {},
   "source": [
    "## Reglas simples de recomendación\n",
    "Se generan recomendaciones personalizadas de acuerdo con los puntajes bajos. Si una habilidad tiene un puntaje <= 2, se sugiere una actividad para mejorar esa competencia."
   ]
  },
  {
   "cell_type": "code",
   "execution_count": 2,
   "metadata": {},
   "outputs": [
    {
     "data": {
      "text/html": [
       "<div>\n",
       "<style scoped>\n",
       "    .dataframe tbody tr th:only-of-type {\n",
       "        vertical-align: middle;\n",
       "    }\n",
       "\n",
       "    .dataframe tbody tr th {\n",
       "        vertical-align: top;\n",
       "    }\n",
       "\n",
       "    .dataframe thead th {\n",
       "        text-align: right;\n",
       "    }\n",
       "</style>\n",
       "<table border=\"1\" class=\"dataframe\">\n",
       "  <thead>\n",
       "    <tr style=\"text-align: right;\">\n",
       "      <th></th>\n",
       "      <th>ID</th>\n",
       "      <th>Carrera</th>\n",
       "      <th>Recomendaciones</th>\n",
       "    </tr>\n",
       "  </thead>\n",
       "  <tbody>\n",
       "    <tr>\n",
       "      <th>0</th>\n",
       "      <td>1</td>\n",
       "      <td>Ing. Química</td>\n",
       "      <td>[Participar en talleres de empatía y escucha a...</td>\n",
       "    </tr>\n",
       "    <tr>\n",
       "      <th>1</th>\n",
       "      <td>2</td>\n",
       "      <td>Ing. Química</td>\n",
       "      <td>[Participar en talleres de empatía y escucha a...</td>\n",
       "    </tr>\n",
       "    <tr>\n",
       "      <th>2</th>\n",
       "      <td>3</td>\n",
       "      <td>Ing. Sistemas</td>\n",
       "      <td>[Practicar presentaciones orales con feedback....</td>\n",
       "    </tr>\n",
       "    <tr>\n",
       "      <th>3</th>\n",
       "      <td>4</td>\n",
       "      <td>Ing. Sistemas</td>\n",
       "      <td>[Practicar presentaciones orales con feedback....</td>\n",
       "    </tr>\n",
       "  </tbody>\n",
       "</table>\n",
       "</div>"
      ],
      "text/plain": [
       "   ID        Carrera                                    Recomendaciones\n",
       "0   1   Ing. Química  [Participar en talleres de empatía y escucha a...\n",
       "1   2   Ing. Química  [Participar en talleres de empatía y escucha a...\n",
       "2   3  Ing. Sistemas  [Practicar presentaciones orales con feedback....\n",
       "3   4  Ing. Sistemas  [Practicar presentaciones orales con feedback...."
      ]
     },
     "execution_count": 2,
     "metadata": {},
     "output_type": "execute_result"
    }
   ],
   "source": [
    "def recomendar_habilidades(row):\n",
    "    recomendaciones = []\n",
    "    if row['Carrera'] == 'Ing. Química':\n",
    "        if row['Empatía'] <= 2:\n",
    "            recomendaciones.append(\"Participar en talleres de empatía y escucha activa.\")\n",
    "        if row['Gestión del ego'] <= 2:\n",
    "            recomendaciones.append(\"Tomar sesiones sobre inteligencia emocional.\")\n",
    "        if row['Trabajo en equipo'] <= 2:\n",
    "            recomendaciones.append(\"Unirse a proyectos colaborativos interdisciplinares.\")\n",
    "    elif row['Carrera'] == 'Ing. Sistemas':\n",
    "        if row['Comunicación'] <= 2:\n",
    "            recomendaciones.append(\"Practicar presentaciones orales con feedback.\")\n",
    "        if row['Expresión de ideas'] <= 2:\n",
    "            recomendaciones.append(\"Tomar cursos de comunicación efectiva.\")\n",
    "        if row['Empatía'] <= 2:\n",
    "            recomendaciones.append(\"Participar en dinámicas de grupo.\")\n",
    "    return recomendaciones\n",
    "\n",
    "df['Recomendaciones'] = df.apply(recomendar_habilidades, axis=1)\n",
    "df[['ID', 'Carrera', 'Recomendaciones']]"
   ]
  },
  {
   "cell_type": "markdown",
   "metadata": {},
   "source": [
    "## Resultados finales del sistema de recomendación\n",
    "Cada estudiante recibe sugerencias específicas de acuerdo a sus debilidades detectadas mediante el sistema de recomendación basado en reglas simples."
   ]
  },
  {
   "cell_type": "markdown",
   "metadata": {},
   "source": [
    "# Simulación II\n",
    "\n",
    "## Sistema de Recomendación Inteligente para Fortalecimiento de Habilidades Blandas\n",
    "\n",
    "Este sistema de recomendación personalizado combina técnicas de perfilado individual con filtrado basado en contenido para sugerir el desarrollo de habilidades blandas críticas. Utiliza como base una encuesta tipo Likert y se alinea con las necesidades de empleabilidad por carrera profesional.\n"
   ]
  },
  {
   "cell_type": "code",
   "execution_count": 10,
   "metadata": {},
   "outputs": [],
   "source": [
    "import pandas as pd\n",
    "import numpy as np\n",
    "\n",
    "# Simulación de datos de estudiantes (encuesta tipo Likert)\n",
    "estudiantes = pd.DataFrame({\n",
    "    'ID': [1, 2, 3],\n",
    "    'Carrera': ['Ing. Química', 'Ing. Sistemas', 'Ing. Química'],\n",
    "    'Comunicación': [2, 1, 3],\n",
    "    'Trabajo en equipo': [2, 3, 2],\n",
    "    'Empatía': [1, 4, 2],\n",
    "    'Gestión del ego': [1, 4, 2],\n",
    "    'Expresión de ideas': [3, 1, 2]\n",
    "})\n",
    "\n",
    "# Definimos el perfil de empleabilidad deseado por carrera\n",
    "# (ponderación de habilidades blandas de acuerdo con su importancia para encontrar trabajo)\n",
    "perfil_empleabilidad = {\n",
    "    'Ing. Química': {\n",
    "        'Comunicación': 0.2,\n",
    "        'Trabajo en equipo': 0.2,\n",
    "        'Empatía': 0.15,\n",
    "        'Gestión del ego': 0.3,\n",
    "        'Expresión de ideas': 0.15\n",
    "    },\n",
    "    'Ing. Sistemas': {\n",
    "        'Comunicación': 0.3,\n",
    "        'Trabajo en equipo': 0.15,\n",
    "        'Empatía': 0.1,\n",
    "        'Gestión del ego': 0.05,\n",
    "        'Expresión de ideas': 0.4\n",
    "    }\n",
    "}"
   ]
  },
  {
   "cell_type": "markdown",
   "metadata": {},
   "source": [
    "## Cálculo de brechas respecto al perfil ideal por carrera\n",
    "\n",
    "Para cada estudiante, comparamos sus puntuaciones con el máximo (5). Luego se pondera según el peso asignado a cada habilidad para su carrera. Esto nos permite identificar qué tan lejos está el estudiante del perfil ideal requerido para una rápida inserción laboral."
   ]
  },
  {
   "cell_type": "code",
   "execution_count": 11,
   "metadata": {},
   "outputs": [
    {
     "data": {
      "text/html": [
       "<div>\n",
       "<style scoped>\n",
       "    .dataframe tbody tr th:only-of-type {\n",
       "        vertical-align: middle;\n",
       "    }\n",
       "\n",
       "    .dataframe tbody tr th {\n",
       "        vertical-align: top;\n",
       "    }\n",
       "\n",
       "    .dataframe thead th {\n",
       "        text-align: right;\n",
       "    }\n",
       "</style>\n",
       "<table border=\"1\" class=\"dataframe\">\n",
       "  <thead>\n",
       "    <tr style=\"text-align: right;\">\n",
       "      <th></th>\n",
       "      <th>ID</th>\n",
       "      <th>Carrera</th>\n",
       "      <th>Recomendaciones</th>\n",
       "    </tr>\n",
       "  </thead>\n",
       "  <tbody>\n",
       "    <tr>\n",
       "      <th>0</th>\n",
       "      <td>1</td>\n",
       "      <td>Ing. Química</td>\n",
       "      <td>[🧠 Gestión del ego: Prioridad 1.2 – Recomendad...</td>\n",
       "    </tr>\n",
       "    <tr>\n",
       "      <th>1</th>\n",
       "      <td>2</td>\n",
       "      <td>Ing. Sistemas</td>\n",
       "      <td>[🧠 Expresión de ideas: Prioridad 1.6 – Recomen...</td>\n",
       "    </tr>\n",
       "    <tr>\n",
       "      <th>2</th>\n",
       "      <td>3</td>\n",
       "      <td>Ing. Química</td>\n",
       "      <td>[✅ Perfil alineado con el mercado laboral.]</td>\n",
       "    </tr>\n",
       "  </tbody>\n",
       "</table>\n",
       "</div>"
      ],
      "text/plain": [
       "   ID        Carrera                                    Recomendaciones\n",
       "0   1   Ing. Química  [🧠 Gestión del ego: Prioridad 1.2 – Recomendad...\n",
       "1   2  Ing. Sistemas  [🧠 Expresión de ideas: Prioridad 1.6 – Recomen...\n",
       "2   3   Ing. Química        [✅ Perfil alineado con el mercado laboral.]"
      ]
     },
     "execution_count": 11,
     "metadata": {},
     "output_type": "execute_result"
    }
   ],
   "source": [
    "def generar_recomendaciones(row):\n",
    "    carrera = row['Carrera']\n",
    "    pesos = perfil_empleabilidad[carrera]\n",
    "    recomendaciones = []\n",
    "\n",
    "    for habilidad, peso in pesos.items():\n",
    "        puntaje = row[habilidad]\n",
    "        brecha = 5 - puntaje  # Distancia al máximo (ideal)\n",
    "        score_prioridad = brecha * peso\n",
    "\n",
    "        if score_prioridad >= 1:  # Umbral ajustable\n",
    "            recomendaciones.append(\n",
    "                (habilidad, round(score_prioridad, 2))\n",
    "            )\n",
    "\n",
    "    # Ordenamos por prioridad\n",
    "    recomendaciones.sort(key=lambda x: x[1], reverse=True)\n",
    "\n",
    "    # Generamos texto personalizado\n",
    "    salida = []\n",
    "    for habilidad, score in recomendaciones:\n",
    "        salida.append(f\"🧠 {habilidad}: Prioridad {score} – Recomendado fortalecer mediante actividades prácticas, mentorías o simulaciones.\")\n",
    "\n",
    "    return salida if salida else [\"✅ Perfil alineado con el mercado laboral.\"]\n",
    "\n",
    "# Aplicamos el sistema a cada estudiante\n",
    "estudiantes['Recomendaciones'] = estudiantes.apply(generar_recomendaciones, axis=1)\n",
    "\n",
    "# Mostramos resultados\n",
    "estudiantes[['ID', 'Carrera', 'Recomendaciones']]"
   ]
  },
  {
   "cell_type": "code",
   "execution_count": 12,
   "metadata": {},
   "outputs": [
    {
     "name": "stdout",
     "output_type": "stream",
     "text": [
      "ID: 1 - Carrera: Ing. Química\n",
      "Recomendaciones:\n",
      "  - 🧠 Gestión del ego: Prioridad 1.2 – Recomendado fortalecer mediante actividades prácticas, mentorías o simulaciones.\n",
      "------------------------------------------------------------\n",
      "ID: 2 - Carrera: Ing. Sistemas\n",
      "Recomendaciones:\n",
      "  - 🧠 Expresión de ideas: Prioridad 1.6 – Recomendado fortalecer mediante actividades prácticas, mentorías o simulaciones.\n",
      "  - 🧠 Comunicación: Prioridad 1.2 – Recomendado fortalecer mediante actividades prácticas, mentorías o simulaciones.\n",
      "------------------------------------------------------------\n",
      "ID: 3 - Carrera: Ing. Química\n",
      "Recomendaciones:\n",
      "  - ✅ Perfil alineado con el mercado laboral.\n",
      "------------------------------------------------------------\n"
     ]
    }
   ],
   "source": [
    "for idx, row in estudiantes.iterrows():\n",
    "    print(f\"ID: {row['ID']} - Carrera: {row['Carrera']}\")\n",
    "    print(\"Recomendaciones:\")\n",
    "    for recomendacion in row['Recomendaciones']:\n",
    "        print(f\"  - {recomendacion}\")\n",
    "    print(\"-\" * 60)"
   ]
  },
  {
   "cell_type": "markdown",
   "metadata": {},
   "source": [
    "## Interpretación de resultados\n",
    "\n",
    "Se genera una lista priorizada de habilidades a desarrollar, basada tanto en la distancia al perfil ideal como en su peso estratégico dentro del mercado laboral para esa carrera. Este enfoque permite focalizar recursos formativos en las áreas con mayor retorno ocupacional."
   ]
  }
 ],
 "metadata": {
  "kernelspec": {
   "display_name": "Python 3",
   "language": "python",
   "name": "python3"
  },
  "language_info": {
   "codemirror_mode": {
    "name": "ipython",
    "version": 3
   },
   "file_extension": ".py",
   "mimetype": "text/x-python",
   "name": "python",
   "nbconvert_exporter": "python",
   "pygments_lexer": "ipython3",
   "version": "3.8.10"
  }
 },
 "nbformat": 4,
 "nbformat_minor": 2
}
