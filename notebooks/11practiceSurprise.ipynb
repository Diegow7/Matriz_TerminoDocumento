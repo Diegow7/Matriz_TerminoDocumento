{
 "cells": [
  {
   "cell_type": "markdown",
   "id": "e625bf0a",
   "metadata": {},
   "source": [
    "# Introducción a la librería Surprise\n",
    "\n",
    "Surprise (Simple Python RecommendatIon System Engine) es una librería especializada en construir y evaluar sistemas de recomendación colaborativos. Está orientada a datasets donde los usuarios califican ítems (por ejemplo, cursos, libros, películas), como en una escala de 1 a 5.\n",
    "\n",
    "Aquí trabajaremos con:\n",
    "- Carga de datos\n",
    "- Algoritmo colaborativo (KNN o SVD)\n",
    "- Entrenamiento y predicción\n",
    "- Evaluación del modelo"
   ]
  },
  {
   "cell_type": "markdown",
   "id": "93094bb9",
   "metadata": {},
   "source": [
    "###  Instalación de la librería Surprise"
   ]
  },
  {
   "cell_type": "code",
   "execution_count": 1,
   "id": "893b45ca",
   "metadata": {},
   "outputs": [
    {
     "name": "stdout",
     "output_type": "stream",
     "text": [
      "Collecting scikit-surprise\n",
      "  Downloading scikit_surprise-1.1.4.tar.gz (154 kB)\n",
      "     ---------------------------------------- 0.0/154.4 kB ? eta -:--:--\n",
      "     ---------------------------------------- 0.0/154.4 kB ? eta -:--:--\n",
      "     -- ------------------------------------- 10.2/154.4 kB ? eta -:--:--\n",
      "     -- ------------------------------------- 10.2/154.4 kB ? eta -:--:--\n",
      "     ------- ----------------------------- 30.7/154.4 kB 145.2 kB/s eta 0:00:01\n",
      "     ------- ----------------------------- 30.7/154.4 kB 145.2 kB/s eta 0:00:01\n",
      "     --------- --------------------------- 41.0/154.4 kB 151.3 kB/s eta 0:00:01\n",
      "     -------------- ---------------------- 61.4/154.4 kB 192.5 kB/s eta 0:00:01\n",
      "     ---------------------- -------------- 92.2/154.4 kB 262.6 kB/s eta 0:00:01\n",
      "     --------------------------------- -- 143.4/154.4 kB 370.8 kB/s eta 0:00:01\n",
      "     ------------------------------------ 154.4/154.4 kB 384.5 kB/s eta 0:00:00\n",
      "  Installing build dependencies: started\n",
      "  Installing build dependencies: still running...\n",
      "  Installing build dependencies: finished with status 'done'\n",
      "  Getting requirements to build wheel: started\n",
      "  Getting requirements to build wheel: finished with status 'done'\n",
      "  Preparing metadata (pyproject.toml): started\n",
      "  Preparing metadata (pyproject.toml): finished with status 'done'\n",
      "Requirement already satisfied: joblib>=1.2.0 in c:\\users\\diego\\appdata\\local\\programs\\python\\python311\\lib\\site-packages (from scikit-surprise) (1.5.1)\n",
      "Requirement already satisfied: numpy>=1.19.5 in c:\\users\\diego\\appdata\\local\\programs\\python\\python311\\lib\\site-packages (from scikit-surprise) (2.2.6)\n",
      "Requirement already satisfied: scipy>=1.6.0 in c:\\users\\diego\\appdata\\local\\programs\\python\\python311\\lib\\site-packages (from scikit-surprise) (1.15.3)\n",
      "Building wheels for collected packages: scikit-surprise\n",
      "  Building wheel for scikit-surprise (pyproject.toml): started\n",
      "  Building wheel for scikit-surprise (pyproject.toml): finished with status 'done'\n",
      "  Created wheel for scikit-surprise: filename=scikit_surprise-1.1.4-cp311-cp311-win_amd64.whl size=1289854 sha256=22498a652076c47dc3082c9c6c59d5aa6aea8dc8bed1db2bc451c1b76008f2fa\n",
      "  Stored in directory: c:\\users\\diego\\appdata\\local\\pip\\cache\\wheels\\2a\\8f\\6e\\7e2899163e2d85d8266daab4aa1cdabec7a6c56f83c015b5af\n",
      "Successfully built scikit-surprise\n",
      "Installing collected packages: scikit-surprise\n",
      "Successfully installed scikit-surprise-1.1.4\n"
     ]
    },
    {
     "name": "stderr",
     "output_type": "stream",
     "text": [
      "\n",
      "[notice] A new release of pip is available: 24.0 -> 25.1.1\n",
      "[notice] To update, run: python.exe -m pip install --upgrade pip\n"
     ]
    }
   ],
   "source": [
    "!pip install scikit-surprise"
   ]
  },
  {
   "cell_type": "code",
   "execution_count": 1,
   "id": "457071a7",
   "metadata": {},
   "outputs": [
    {
     "name": "stdout",
     "output_type": "stream",
     "text": [
      "1.26.4\n"
     ]
    }
   ],
   "source": [
    "import numpy\n",
    "print(numpy.__version__)"
   ]
  },
  {
   "cell_type": "markdown",
   "id": "6864ad20",
   "metadata": {},
   "source": [
    "## 1. Cargar librerías y crear un conjunto de datos artificial\n",
    "\n",
    "Primero importamos lo necesario y creamos un conjunto de datos simulado con calificaciones dadas por estudiantes a actividades relacionadas con habilidades blandas."
   ]
  },
  {
   "cell_type": "code",
   "execution_count": 2,
   "id": "4178e440",
   "metadata": {},
   "outputs": [
    {
     "name": "stdout",
     "output_type": "stream",
     "text": [
      "  usuario               item  rating\n",
      "0      U1       Comunicación       4\n",
      "1      U1            Empatía       5\n",
      "2      U2            Empatía       3\n",
      "3      U2  Trabajo en equipo       4\n",
      "4      U3       Comunicación       2\n",
      "5      U3    Gestión del ego       5\n"
     ]
    }
   ],
   "source": [
    "from surprise import Dataset, Reader\n",
    "import pandas as pd\n",
    "\n",
    "# Creamos un DataFrame con calificaciones de estudiantes a actividades\n",
    "data = pd.DataFrame({\n",
    "    'usuario': ['U1', 'U1', 'U2', 'U2', 'U3', 'U3'],\n",
    "    'item': ['Comunicación', 'Empatía', 'Empatía', 'Trabajo en equipo', 'Comunicación', 'Gestión del ego'],\n",
    "    'rating': [4, 5, 3, 4, 2, 5]\n",
    "})\n",
    "\n",
    "# Mostrar los datos\n",
    "print(data)"
   ]
  },
  {
   "cell_type": "markdown",
   "id": "d3fa897e",
   "metadata": {},
   "source": [
    "## 2. Preparar los datos con el formato que requiere Surprise\n",
    "\n",
    "Surprise necesita que los datos tengan 3 columnas: usuario, ítem y calificación (en ese orden). \n",
    "Usamos `Reader` para definir el rango de las calificaciones y luego cargamos el dataset."
   ]
  },
  {
   "cell_type": "code",
   "execution_count": 3,
   "id": "312cbd4b",
   "metadata": {},
   "outputs": [],
   "source": [
    "# Definir el rango de las calificaciones\n",
    "reader = Reader(rating_scale=(1, 5))\n",
    "\n",
    "# Convertir el DataFrame a un dataset compatible con Surprise\n",
    "data_surprise = Dataset.load_from_df(data[['usuario', 'item', 'rating']], reader)"
   ]
  },
  {
   "cell_type": "markdown",
   "id": "9a7d4202",
   "metadata": {},
   "source": [
    "## 3. Entrenar un modelo usando KNN (filtrado colaborativo basado en usuario)\n",
    "\n",
    "Usaremos el algoritmo KNNBasic para hacer recomendaciones según similitudes entre usuarios."
   ]
  },
  {
   "cell_type": "code",
   "execution_count": 4,
   "id": "03c83ed8",
   "metadata": {},
   "outputs": [
    {
     "name": "stdout",
     "output_type": "stream",
     "text": [
      "Computing the msd similarity matrix...\n",
      "Done computing similarity matrix.\n",
      "RMSE: 1.1180\n"
     ]
    },
    {
     "data": {
      "text/plain": [
       "1.118033988749895"
      ]
     },
     "execution_count": 4,
     "metadata": {},
     "output_type": "execute_result"
    }
   ],
   "source": [
    "from surprise import KNNBasic\n",
    "from surprise.model_selection import train_test_split\n",
    "from surprise import accuracy\n",
    "\n",
    "# Dividir los datos en entrenamiento y prueba\n",
    "trainset, testset = train_test_split(data_surprise, test_size=0.25)\n",
    "\n",
    "# Crear el modelo KNN\n",
    "algo = KNNBasic()\n",
    "\n",
    "# Entrenar el modelo\n",
    "algo.fit(trainset)\n",
    "\n",
    "# Hacer predicciones\n",
    "predictions = algo.test(testset)\n",
    "\n",
    "# Mostrar precisión del modelo\n",
    "accuracy.rmse(predictions)\n"
   ]
  },
  {
   "cell_type": "markdown",
   "id": "15554f73",
   "metadata": {},
   "source": [
    "## 4. Predecir una calificación para un usuario que no ha calificado un ítem\n",
    "\n",
    "Probamos cómo el sistema predice una calificación para el usuario \"U1\" en la actividad \"Gestión del ego\"."
   ]
  },
  {
   "cell_type": "code",
   "execution_count": 5,
   "id": "e9acce2b",
   "metadata": {},
   "outputs": [
    {
     "name": "stdout",
     "output_type": "stream",
     "text": [
      "user: U1         item: Gestión del ego r_ui = None   est = 3.50   {'was_impossible': True, 'reason': 'User and/or item is unknown.'}\n"
     ]
    }
   ],
   "source": [
    "# Predecir una calificación que aún no existe en los datos\n",
    "prediccion = algo.predict('U1', 'Gestión del ego')\n",
    "print(prediccion)"
   ]
  },
  {
   "cell_type": "markdown",
   "id": "8eb1a981",
   "metadata": {},
   "source": [
    "## Conclusión\n",
    "\n",
    "Este ejemplo muestra cómo con muy pocos datos se puede crear un sistema de recomendación básico utilizando la librería Surprise. \n",
    "Este sistema puede recomendar actividades (ítems) que ayuden a mejorar habilidades blandas basándose en lo que otros usuarios han valorado positivamente.\n",
    "\n",
    "A futuro, puedes usar datos reales y probar otros algoritmos como SVD, SVD++, NMF, entre otros. También puedes ajustar parámetros, usar validación cruzada y calcular métricas más específicas.\n",
    "\n",
    "Esta lógica puede integrarse en tu proyecto para recomendar actividades personalizadas de formación en habilidades blandas.\n"
   ]
  }
 ],
 "metadata": {
  "kernelspec": {
   "display_name": "Python 3",
   "language": "python",
   "name": "python3"
  },
  "language_info": {
   "codemirror_mode": {
    "name": "ipython",
    "version": 3
   },
   "file_extension": ".py",
   "mimetype": "text/x-python",
   "name": "python",
   "nbconvert_exporter": "python",
   "pygments_lexer": "ipython3",
   "version": "3.11.9"
  }
 },
 "nbformat": 4,
 "nbformat_minor": 5
}
