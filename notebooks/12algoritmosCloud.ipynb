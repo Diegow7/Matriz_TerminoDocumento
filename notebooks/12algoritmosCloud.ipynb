{
 "cells": [
  {
   "cell_type": "markdown",
   "id": "8da9c18b",
   "metadata": {},
   "source": [
    "## Instalar dependencias necesaria"
   ]
  },
  {
   "cell_type": "code",
   "execution_count": 1,
   "id": "ac4d9248",
   "metadata": {},
   "outputs": [
    {
     "name": "stdout",
     "output_type": "stream",
     "text": [
      "Collecting pycryptodome\n",
      "  Downloading pycryptodome-3.23.0-cp37-abi3-win_amd64.whl.metadata (3.5 kB)\n",
      "Downloading pycryptodome-3.23.0-cp37-abi3-win_amd64.whl (1.8 MB)\n",
      "   ---------------------------------------- 0.0/1.8 MB ? eta -:--:--\n",
      "   ---------------------------------------- 0.0/1.8 MB ? eta -:--:--\n",
      "   ---------------------------------------- 0.0/1.8 MB ? eta -:--:--\n",
      "   ---------------------------------------- 0.0/1.8 MB 131.3 kB/s eta 0:00:14\n",
      "   ---------------------------------------- 0.0/1.8 MB 131.3 kB/s eta 0:00:14\n",
      "    --------------------------------------- 0.0/1.8 MB 145.2 kB/s eta 0:00:13\n",
      "   - -------------------------------------- 0.1/1.8 MB 233.8 kB/s eta 0:00:08\n",
      "   -- ------------------------------------- 0.1/1.8 MB 308.0 kB/s eta 0:00:06\n",
      "   --- ------------------------------------ 0.2/1.8 MB 523.5 kB/s eta 0:00:04\n",
      "   ------ --------------------------------- 0.3/1.8 MB 737.3 kB/s eta 0:00:03\n",
      "   ---------- ----------------------------- 0.5/1.8 MB 1.0 MB/s eta 0:00:02\n",
      "   ------------- -------------------------- 0.6/1.8 MB 1.3 MB/s eta 0:00:01\n",
      "   ----------------- ---------------------- 0.8/1.8 MB 1.5 MB/s eta 0:00:01\n",
      "   ----------------------- ---------------- 1.1/1.8 MB 1.9 MB/s eta 0:00:01\n",
      "   ---------------------------------- ----- 1.5/1.8 MB 2.5 MB/s eta 0:00:01\n",
      "   ---------------------------------------- 1.8/1.8 MB 2.8 MB/s eta 0:00:00\n",
      "Installing collected packages: pycryptodome\n",
      "Successfully installed pycryptodome-3.23.0\n"
     ]
    },
    {
     "name": "stderr",
     "output_type": "stream",
     "text": [
      "\n",
      "[notice] A new release of pip is available: 24.0 -> 25.1.1\n",
      "[notice] To update, run: python.exe -m pip install --upgrade pip\n"
     ]
    }
   ],
   "source": [
    "!pip install pycryptodome"
   ]
  },
  {
   "cell_type": "code",
   "execution_count": 3,
   "id": "0da3426c",
   "metadata": {},
   "outputs": [
    {
     "name": "stdout",
     "output_type": "stream",
     "text": [
      "Collecting matplotlib\n",
      "  Downloading matplotlib-3.10.3-cp311-cp311-win_amd64.whl.metadata (11 kB)\n",
      "Collecting contourpy>=1.0.1 (from matplotlib)\n",
      "  Downloading contourpy-1.3.2-cp311-cp311-win_amd64.whl.metadata (5.5 kB)\n",
      "Collecting cycler>=0.10 (from matplotlib)\n",
      "  Downloading cycler-0.12.1-py3-none-any.whl.metadata (3.8 kB)\n",
      "Collecting fonttools>=4.22.0 (from matplotlib)\n",
      "  Downloading fonttools-4.59.0-cp311-cp311-win_amd64.whl.metadata (110 kB)\n",
      "     ---------------------------------------- 0.0/110.1 kB ? eta -:--:--\n",
      "     --- ------------------------------------ 10.2/110.1 kB ? eta -:--:--\n",
      "     --- ------------------------------------ 10.2/110.1 kB ? eta -:--:--\n",
      "     ------------- ----------------------- 41.0/110.1 kB 281.8 kB/s eta 0:00:01\n",
      "     ------------------------------ ------ 92.2/110.1 kB 525.1 kB/s eta 0:00:01\n",
      "     ------------------------------------ 110.1/110.1 kB 580.3 kB/s eta 0:00:00\n",
      "Collecting kiwisolver>=1.3.1 (from matplotlib)\n",
      "  Downloading kiwisolver-1.4.8-cp311-cp311-win_amd64.whl.metadata (6.3 kB)\n",
      "Requirement already satisfied: numpy>=1.23 in c:\\users\\diego\\appdata\\local\\programs\\python\\python311\\lib\\site-packages (from matplotlib) (1.26.4)\n",
      "Requirement already satisfied: packaging>=20.0 in c:\\users\\diego\\appdata\\local\\programs\\python\\python311\\lib\\site-packages (from matplotlib) (25.0)\n",
      "Requirement already satisfied: pillow>=8 in c:\\users\\diego\\appdata\\local\\programs\\python\\python311\\lib\\site-packages (from matplotlib) (11.2.1)\n",
      "Collecting pyparsing>=2.3.1 (from matplotlib)\n",
      "  Downloading pyparsing-3.2.3-py3-none-any.whl.metadata (5.0 kB)\n",
      "Requirement already satisfied: python-dateutil>=2.7 in c:\\users\\diego\\appdata\\local\\programs\\python\\python311\\lib\\site-packages (from matplotlib) (2.9.0.post0)\n",
      "Requirement already satisfied: six>=1.5 in c:\\users\\diego\\appdata\\local\\programs\\python\\python311\\lib\\site-packages (from python-dateutil>=2.7->matplotlib) (1.17.0)\n",
      "Downloading matplotlib-3.10.3-cp311-cp311-win_amd64.whl (8.1 MB)\n",
      "   ---------------------------------------- 0.0/8.1 MB ? eta -:--:--\n",
      "    --------------------------------------- 0.1/8.1 MB 4.3 MB/s eta 0:00:02\n",
      "    --------------------------------------- 0.2/8.1 MB 2.4 MB/s eta 0:00:04\n",
      "   - -------------------------------------- 0.4/8.1 MB 3.0 MB/s eta 0:00:03\n",
      "   -- ------------------------------------- 0.5/8.1 MB 3.1 MB/s eta 0:00:03\n",
      "   --- ------------------------------------ 0.7/8.1 MB 3.4 MB/s eta 0:00:03\n",
      "   ----- ---------------------------------- 1.1/8.1 MB 4.0 MB/s eta 0:00:02\n",
      "   ------- -------------------------------- 1.5/8.1 MB 4.5 MB/s eta 0:00:02\n",
      "   ----------- ---------------------------- 2.3/8.1 MB 6.4 MB/s eta 0:00:01\n",
      "   ------------------ --------------------- 3.7/8.1 MB 8.9 MB/s eta 0:00:01\n",
      "   ------------------------ --------------- 5.0/8.1 MB 10.7 MB/s eta 0:00:01\n",
      "   ---------------------------------------  8.1/8.1 MB 15.6 MB/s eta 0:00:01\n",
      "   ---------------------------------------- 8.1/8.1 MB 15.2 MB/s eta 0:00:00\n",
      "Downloading contourpy-1.3.2-cp311-cp311-win_amd64.whl (222 kB)\n",
      "   ---------------------------------------- 0.0/222.0 kB ? eta -:--:--\n",
      "   --------------------------------------- 222.0/222.0 kB 14.1 MB/s eta 0:00:00\n",
      "Downloading cycler-0.12.1-py3-none-any.whl (8.3 kB)\n",
      "Downloading fonttools-4.59.0-cp311-cp311-win_amd64.whl (2.3 MB)\n",
      "   ---------------------------------------- 0.0/2.3 MB ? eta -:--:--\n",
      "   ---------------------------------------  2.3/2.3 MB 72.3 MB/s eta 0:00:01\n",
      "   ---------------------------------------- 2.3/2.3 MB 47.9 MB/s eta 0:00:00\n",
      "Downloading kiwisolver-1.4.8-cp311-cp311-win_amd64.whl (71 kB)\n",
      "   ---------------------------------------- 0.0/72.0 kB ? eta -:--:--\n",
      "   ---------------------------------------- 72.0/72.0 kB 4.1 MB/s eta 0:00:00\n",
      "Downloading pyparsing-3.2.3-py3-none-any.whl (111 kB)\n",
      "   ---------------------------------------- 0.0/111.1 kB ? eta -:--:--\n",
      "   ---------------------------------------- 111.1/111.1 kB 3.3 MB/s eta 0:00:00\n",
      "Installing collected packages: pyparsing, kiwisolver, fonttools, cycler, contourpy, matplotlib\n",
      "Successfully installed contourpy-1.3.2 cycler-0.12.1 fonttools-4.59.0 kiwisolver-1.4.8 matplotlib-3.10.3 pyparsing-3.2.3\n"
     ]
    },
    {
     "name": "stderr",
     "output_type": "stream",
     "text": [
      "\n",
      "[notice] A new release of pip is available: 24.0 -> 25.1.1\n",
      "[notice] To update, run: python.exe -m pip install --upgrade pip\n"
     ]
    }
   ],
   "source": [
    "!pip install matplotlib"
   ]
  },
  {
   "cell_type": "markdown",
   "id": "fa92bf01",
   "metadata": {},
   "source": [
    "## Introducción"
   ]
  },
  {
   "cell_type": "markdown",
   "id": "11146060",
   "metadata": {},
   "source": [
    "# 🔐 Algoritmo Paillier: Cifrado Homomórfico\n",
    "\n",
    "Este notebook implementa el algoritmo de Paillier en Python para:\n",
    "- Cifrar y descifrar mensajes enteros.\n",
    "- Probar si es **probabilístico o determinista**.\n",
    "- Aplicar propiedades **homomórficas (suma y multiplicación)**.\n",
    "- Medir el rendimiento de cifrado y descifrado con diferentes tamaños de claves."
   ]
  },
  {
   "cell_type": "markdown",
   "id": "7d4489aa",
   "metadata": {},
   "source": [
    "## Implementación del algoritmo Paillier"
   ]
  },
  {
   "cell_type": "code",
   "execution_count": 4,
   "id": "f442db8d",
   "metadata": {},
   "outputs": [
    {
     "name": "stderr",
     "output_type": "stream",
     "text": [
      "Matplotlib is building the font cache; this may take a moment.\n"
     ]
    }
   ],
   "source": [
    "from Crypto.Util import number\n",
    "import random\n",
    "import time\n",
    "import matplotlib.pyplot as plt\n",
    "\n",
    "class Paillier:\n",
    "    def __init__(self, bit_length=128):\n",
    "        self.bit_length = bit_length\n",
    "        self.p = number.getPrime(bit_length // 2)\n",
    "        self.q = number.getPrime(bit_length // 2)\n",
    "        while self.q == self.p:\n",
    "            self.q = number.getPrime(bit_length // 2)\n",
    "        self.n = self.p * self.q\n",
    "        self.nsquare = self.n * self.n\n",
    "        self.lambda_param = (self.p - 1) * (self.q - 1) // number.GCD(self.p - 1, self.q - 1)\n",
    "        self.g = self._find_valid_g()\n",
    "        self.mu = number.inverse(self.L_function(pow(self.g, self.lambda_param, self.nsquare)), self.n)\n",
    "\n",
    "    def L_function(self, x):\n",
    "        return (x - 1) // self.n\n",
    "\n",
    "    def _find_valid_g(self):\n",
    "        while True:\n",
    "            g = random.randrange(1, self.nsquare)\n",
    "            l_val = self.L_function(pow(g, self.lambda_param, self.nsquare))\n",
    "            if number.GCD(l_val, self.n) == 1:\n",
    "                return g\n",
    "\n",
    "    def encrypt(self, m, r=None):\n",
    "        if not (0 <= m < self.n):\n",
    "            raise ValueError(\"Plaintext must be in Z_n\")\n",
    "        if r is None:\n",
    "            r = random.randrange(1, self.n)\n",
    "            while number.GCD(r, self.n) != 1:\n",
    "                r = random.randrange(1, self.n)\n",
    "        c = (pow(self.g, m, self.nsquare) * pow(r, self.n, self.nsquare)) % self.nsquare\n",
    "        return c\n",
    "\n",
    "    def decrypt(self, c):\n",
    "        if not (0 <= c < self.nsquare):\n",
    "            raise ValueError(\"Ciphertext must be in Z_{n^2}\")\n",
    "        u = self.L_function(pow(c, self.lambda_param, self.nsquare))\n",
    "        m = (u * self.mu) % self.n\n",
    "        return m\n",
    "\n",
    "    def add(self, c1, c2):\n",
    "        return (c1 * c2) % self.nsquare\n",
    "\n",
    "    def multiply(self, c, k):\n",
    "        return pow(c, k, self.nsquare)\n"
   ]
  },
  {
   "cell_type": "markdown",
   "id": "c5bf0324",
   "metadata": {},
   "source": [
    "## Probar si el algoritmo es probabilístico"
   ]
  },
  {
   "cell_type": "code",
   "execution_count": 5,
   "id": "a4b70de0",
   "metadata": {},
   "outputs": [
    {
     "name": "stdout",
     "output_type": "stream",
     "text": [
      "Cifrado 1: 10790624579621745463377829541543021232881440180574641439819495294447383435054\n",
      "Cifrado 2: 7981416601861216246245671566379422677817809101478765816282692856251803927134\n",
      "¿Cifrado es probabilístico? True\n"
     ]
    }
   ],
   "source": [
    "# Crear instancia\n",
    "paillier = Paillier(bit_length=128)\n",
    "\n",
    "# Cifrar el mismo mensaje dos veces\n",
    "mensaje = 42\n",
    "cifrado1 = paillier.encrypt(mensaje)\n",
    "cifrado2 = paillier.encrypt(mensaje)\n",
    "\n",
    "# Mostrar resultados\n",
    "print(\"Cifrado 1:\", cifrado1)\n",
    "print(\"Cifrado 2:\", cifrado2)\n",
    "print(\"¿Cifrado es probabilístico?\", cifrado1 != cifrado2)"
   ]
  },
  {
   "cell_type": "markdown",
   "id": "77c53640",
   "metadata": {},
   "source": [
    "## Prueba de propiedades homomórficas"
   ]
  },
  {
   "cell_type": "code",
   "execution_count": 6,
   "id": "09bb37c6",
   "metadata": {},
   "outputs": [
    {
     "name": "stdout",
     "output_type": "stream",
     "text": [
      "Suma esperada: 30  → Descifrada: 30\n",
      "Multiplicación esperada: 30 → Descifrada: 30\n"
     ]
    }
   ],
   "source": [
    "# Mensajes originales\n",
    "m1 = 10\n",
    "m2 = 20\n",
    "\n",
    "# Cifrarlos\n",
    "c1 = paillier.encrypt(m1)\n",
    "c2 = paillier.encrypt(m2)\n",
    "\n",
    "# Sumar: E(m1 + m2) = E(m1) * E(m2)\n",
    "c_suma = paillier.add(c1, c2)\n",
    "resultado_suma = paillier.decrypt(c_suma)\n",
    "print(\"Suma esperada:\", m1 + m2, \" → Descifrada:\", resultado_suma)\n",
    "\n",
    "# Multiplicar: E(k * m1) = E(m1)^k\n",
    "k = 3\n",
    "c_multiplicacion = paillier.multiply(c1, k)\n",
    "resultado_multiplicacion = paillier.decrypt(c_multiplicacion)\n",
    "print(f\"Multiplicación esperada: {m1 * k} → Descifrada:\", resultado_multiplicacion)"
   ]
  },
  {
   "cell_type": "markdown",
   "id": "b9d06247",
   "metadata": {},
   "source": [
    "## Medir rendimiento"
   ]
  },
  {
   "cell_type": "code",
   "execution_count": 7,
   "id": "053f2076",
   "metadata": {},
   "outputs": [
    {
     "name": "stdout",
     "output_type": "stream",
     "text": [
      "Tiempos de cifrado: [0.0, 0.0, 0.000997304916381836, 0.002000570297241211]\n",
      "Tiempos de descifrado: [0.0, 0.0, 0.0, 0.0030052661895751953]\n"
     ]
    }
   ],
   "source": [
    "tamanos = [64, 128, 256, 512]\n",
    "tiempos_cifrado = []\n",
    "tiempos_descifrado = []\n",
    "\n",
    "for bits in tamanos:\n",
    "    paillier = Paillier(bit_length=bits)\n",
    "    mensaje = 123\n",
    "\n",
    "    # Medir cifrado\n",
    "    inicio = time.time()\n",
    "    cifrado = paillier.encrypt(mensaje)\n",
    "    tiempos_cifrado.append(time.time() - inicio)\n",
    "\n",
    "    # Medir descifrado\n",
    "    inicio = time.time()\n",
    "    _ = paillier.decrypt(cifrado)\n",
    "    tiempos_descifrado.append(time.time() - inicio)\n",
    "\n",
    "print(\"Tiempos de cifrado:\", tiempos_cifrado)\n",
    "print(\"Tiempos de descifrado:\", tiempos_descifrado)\n"
   ]
  },
  {
   "cell_type": "markdown",
   "id": "42be3433",
   "metadata": {},
   "source": [
    "## Graficar resultados"
   ]
  },
  {
   "cell_type": "code",
   "execution_count": 8,
   "id": "e30145cb",
   "metadata": {},
   "outputs": [
    {
     "data": {
      "image/png": "[encoded data removed]",
      "text/plain": [
       "<Figure size 640x480 with 1 Axes>"
      ]
     },
     "metadata": {},
     "output_type": "display_data"
    }
   ],
   "source": [
    "plt.plot(tamanos, tiempos_cifrado, marker='o', label='Tiempo de cifrado')\n",
    "plt.plot(tamanos, tiempos_descifrado, marker='s', label='Tiempo de descifrado')\n",
    "plt.xlabel('Tamaño de clave (bits)')\n",
    "plt.ylabel('Tiempo (segundos)')\n",
    "plt.title('Rendimiento de Paillier')\n",
    "plt.legend()\n",
    "plt.grid(True)\n",
    "plt.tight_layout()\n",
    "plt.show()"
   ]
  },
  {
   "cell_type": "markdown",
   "id": "f6059513",
   "metadata": {},
   "source": [
    "### Conclusión\n",
    "\n",
    "- Se observa que **al incrementar el tamaño de la clave (de 64 a 512 bits)**, el tiempo necesario para realizar tanto el **cifrado como el descifrado** también aumenta.\n",
    "- El **cifrado presenta un crecimiento más estable y lineal**, mientras que el **descifrado se mantiene bajo hasta los 256 bits**, incrementándose considerablemente a partir de los 512 bits.\n",
    "- Esto indica que **el algoritmo Paillier es eficiente con claves pequeñas**, pero **su rendimiento disminuye** con claves más grandes, especialmente durante el proceso de descifrado.\n",
    "- Por tanto, existe una **relación directa entre seguridad y rendimiento**, lo cual debe considerarse al elegir el tamaño de clave para aplicaciones prácticas."
   ]
  }
 ],
 "metadata": {
  "kernelspec": {
   "display_name": "Python 3",
   "language": "python",
   "name": "python3"
  },
  "language_info": {
   "codemirror_mode": {
    "name": "ipython",
    "version": 3
   },
   "file_extension": ".py",
   "mimetype": "text/x-python",
   "name": "python",
   "nbconvert_exporter": "python",
   "pygments_lexer": "ipython3",
   "version": "3.11.9"
  }
 },
 "nbformat": 4,
 "nbformat_minor": 5
}
